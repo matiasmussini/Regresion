{
  "cells": [
    {
      "cell_type": "markdown",
      "metadata": {
        "id": "NRiwiJgNuVlP"
      },
      "source": [
        "REGRESIÓN"
      ]
    },
    {
      "cell_type": "markdown",
      "metadata": {
        "id": "w4Wk5xIFuVlR"
      },
      "source": [
        "Imports necesarios"
      ]
    },
    {
      "cell_type": "code",
      "execution_count": 1,
      "metadata": {
        "id": "MjpRJ5ZwuVlT"
      },
      "outputs": [],
      "source": [
        "import pandas as pd\n",
        "import seaborn as sns\n",
        "import numpy as np\n",
        "import warnings\n",
        "from sklearn.linear_model import Lasso\n",
        "from sklearn.linear_model import Ridge\n",
        "from sklearn.linear_model import ElasticNet\n",
        "from sklearn.preprocessing import PolynomialFeatures\n",
        "from sklearn.pipeline import Pipeline\n",
        "from sklearn.model_selection import train_test_split\n",
        "from sklearn.model_selection import GridSearchCV\n",
        "from sklearn.feature_selection import SequentialFeatureSelector as SFFS\n",
        "from sklearn.exceptions import ConvergenceWarning\n",
        "import matplotlib.pyplot as plt\n",
        "from sklearn.ensemble import AdaBoostRegressor\n",
        "from sklearn.ensemble import ExtraTreesRegressor\n",
        "\n",
        "# ==============================================================================\n",
        "from sklearn.linear_model import LinearRegression\n",
        "from sklearn.linear_model import Lasso\n",
        "from sklearn.linear_model import Ridge\n",
        "from sklearn.linear_model import ElasticNet\n",
        "from sklearn.linear_model import SGDRegressor\n",
        "from sklearn.preprocessing import PolynomialFeatures, StandardScaler\n",
        "\n",
        "# Importaciones para la predicción (extra)\n",
        "# ==============================================================================\n",
        "from sklearn.ensemble import GradientBoostingRegressor\n",
        "from sklearn.neural_network import MLPRegressor\n",
        "from sklearn.ensemble import RandomForestRegressor\n",
        "\n",
        "\n",
        "# Importaciones para la búsqueda de hiperparámetros\n",
        "# ==============================================================================\n",
        "from sklearn.model_selection import GridSearchCV\n",
        "\n",
        "# Importaciones para la medida de calidad de la predicción\n",
        "# ==============================================================================\n",
        "from sklearn.model_selection import cross_val_score\n",
        "import multiprocessing\n",
        "from sklearn.metrics import r2_score, mean_absolute_error, mean_squared_error"
      ]
    },
    {
      "cell_type": "markdown",
      "metadata": {
        "id": "wC-lqb_buVlU"
      },
      "source": [
        "Lectura de csv"
      ]
    },
    {
      "cell_type": "markdown",
      "source": [
        "Se debe cargar previamente los csv en 'Subir al almacenamiento de sesión' para que funncione en Google Colab y tenerlo en la misma carpeta que el ipynb para que funcione en Visual Studio."
      ],
      "metadata": {
        "id": "G9mWsxjBvk95"
      }
    },
    {
      "cell_type": "code",
      "execution_count": 3,
      "metadata": {
        "id": "H-lBSrwnuVlU"
      },
      "outputs": [],
      "source": [
        "train = pd.read_csv('train_ap1_mcp_23_24_train.csv')  #lectura de train\n",
        "test = pd.read_csv('test_ap1_mcp_23_24_test.csv')      #lectura de test"
      ]
    },
    {
      "cell_type": "code",
      "execution_count": 4,
      "metadata": {
        "id": "nFOSYrwBuVlU",
        "outputId": "f794fbd1-67ba-4aaa-ed50-e266777a9c7b",
        "colab": {
          "base_uri": "https://localhost:8080/",
          "height": 860
        }
      },
      "outputs": [
        {
          "output_type": "execute_result",
          "data": {
            "text/plain": [
              "                                               song_name  song_id  popularity  \\\n",
              "0                   I’ll Come Running (To Tie Your Shoe)   782579          34   \n",
              "1                                                Mohican   150969          47   \n",
              "2      Todo Quedó, Quedó (En Vivo) [feat. Nelsón Arri...   261974          25   \n",
              "3                                           Be Glorified   360055          39   \n",
              "4                                        Guilty Pleasure   745239          57   \n",
              "...                                                  ...      ...         ...   \n",
              "23995                                      Make Me Wanna    74370          62   \n",
              "23996                          Maui Battles - Score Demo    19552          41   \n",
              "23997  6 Concerts transcrits en sextuor / 6e concert:...   549733          15   \n",
              "23998  Puccini: La bohème, Act 1: \"O soave fanciulla\"...   884432          13   \n",
              "23999                                    Flava in Ya Ear    71588          53   \n",
              "\n",
              "       acousticness  danceability  song_duration_ms  energy  instrumentalness  \\\n",
              "0            0.5350         0.584            218227   0.459          0.034200   \n",
              "1            0.3210         0.758            206600   0.503          0.000234   \n",
              "2            0.1680         0.732            304970   0.824          0.000021   \n",
              "3            0.0726         0.553            307040   0.718          0.000003   \n",
              "4            0.0032         0.641            204435   0.844          0.000000   \n",
              "...             ...           ...               ...     ...               ...   \n",
              "23995        0.0369         0.545            225067   0.818          0.000000   \n",
              "23996        0.2350         0.232            117733   0.587          0.918000   \n",
              "23997        0.8900         0.624            248733   0.269          0.879000   \n",
              "23998        0.9780         0.196            248307   0.134          0.026100   \n",
              "23999        0.4660         0.763            217467   0.541          0.000000   \n",
              "\n",
              "       key  liveness  loudness  audio_mode  speechiness    tempo  \\\n",
              "0        0    0.1530   -14.127           0       0.0319  124.465   \n",
              "1        0    0.1210   -11.445           0       0.1600  120.027   \n",
              "2       11    0.9420    -9.296           0       0.1170  102.002   \n",
              "3        8    0.1520    -6.385           0       0.0248   87.989   \n",
              "4        9    0.1060    -5.758           0       0.0465  150.030   \n",
              "...    ...       ...       ...         ...          ...      ...   \n",
              "23995    0    0.1010    -6.380           0       0.0541  109.019   \n",
              "23996    1    0.3950   -13.186           1       0.1010   81.943   \n",
              "23997    8    0.1200   -20.798           1       0.0391  128.212   \n",
              "23998    5    0.1180   -13.981           1       0.0365   84.730   \n",
              "23999    0    0.0693    -8.843           1       0.3290   90.032   \n",
              "\n",
              "       time_signature  audio_valence  \n",
              "0                   3         0.7650  \n",
              "1                   3         0.4770  \n",
              "2                   3         0.8260  \n",
              "3                   3         0.6770  \n",
              "4                   3         0.8340  \n",
              "...               ...            ...  \n",
              "23995               2         0.6790  \n",
              "23996               3         0.1130  \n",
              "23997               2         0.3820  \n",
              "23998               3         0.0386  \n",
              "23999               3         0.8850  \n",
              "\n",
              "[24000 rows x 16 columns]"
            ],
            "text/html": [
              "\n",
              "  <div id=\"df-b4fb531c-7087-419e-b5cc-17a24157f1b5\" class=\"colab-df-container\">\n",
              "    <div>\n",
              "<style scoped>\n",
              "    .dataframe tbody tr th:only-of-type {\n",
              "        vertical-align: middle;\n",
              "    }\n",
              "\n",
              "    .dataframe tbody tr th {\n",
              "        vertical-align: top;\n",
              "    }\n",
              "\n",
              "    .dataframe thead th {\n",
              "        text-align: right;\n",
              "    }\n",
              "</style>\n",
              "<table border=\"1\" class=\"dataframe\">\n",
              "  <thead>\n",
              "    <tr style=\"text-align: right;\">\n",
              "      <th></th>\n",
              "      <th>song_name</th>\n",
              "      <th>song_id</th>\n",
              "      <th>popularity</th>\n",
              "      <th>acousticness</th>\n",
              "      <th>danceability</th>\n",
              "      <th>song_duration_ms</th>\n",
              "      <th>energy</th>\n",
              "      <th>instrumentalness</th>\n",
              "      <th>key</th>\n",
              "      <th>liveness</th>\n",
              "      <th>loudness</th>\n",
              "      <th>audio_mode</th>\n",
              "      <th>speechiness</th>\n",
              "      <th>tempo</th>\n",
              "      <th>time_signature</th>\n",
              "      <th>audio_valence</th>\n",
              "    </tr>\n",
              "  </thead>\n",
              "  <tbody>\n",
              "    <tr>\n",
              "      <th>0</th>\n",
              "      <td>I’ll Come Running (To Tie Your Shoe)</td>\n",
              "      <td>782579</td>\n",
              "      <td>34</td>\n",
              "      <td>0.5350</td>\n",
              "      <td>0.584</td>\n",
              "      <td>218227</td>\n",
              "      <td>0.459</td>\n",
              "      <td>0.034200</td>\n",
              "      <td>0</td>\n",
              "      <td>0.1530</td>\n",
              "      <td>-14.127</td>\n",
              "      <td>0</td>\n",
              "      <td>0.0319</td>\n",
              "      <td>124.465</td>\n",
              "      <td>3</td>\n",
              "      <td>0.7650</td>\n",
              "    </tr>\n",
              "    <tr>\n",
              "      <th>1</th>\n",
              "      <td>Mohican</td>\n",
              "      <td>150969</td>\n",
              "      <td>47</td>\n",
              "      <td>0.3210</td>\n",
              "      <td>0.758</td>\n",
              "      <td>206600</td>\n",
              "      <td>0.503</td>\n",
              "      <td>0.000234</td>\n",
              "      <td>0</td>\n",
              "      <td>0.1210</td>\n",
              "      <td>-11.445</td>\n",
              "      <td>0</td>\n",
              "      <td>0.1600</td>\n",
              "      <td>120.027</td>\n",
              "      <td>3</td>\n",
              "      <td>0.4770</td>\n",
              "    </tr>\n",
              "    <tr>\n",
              "      <th>2</th>\n",
              "      <td>Todo Quedó, Quedó (En Vivo) [feat. Nelsón Arri...</td>\n",
              "      <td>261974</td>\n",
              "      <td>25</td>\n",
              "      <td>0.1680</td>\n",
              "      <td>0.732</td>\n",
              "      <td>304970</td>\n",
              "      <td>0.824</td>\n",
              "      <td>0.000021</td>\n",
              "      <td>11</td>\n",
              "      <td>0.9420</td>\n",
              "      <td>-9.296</td>\n",
              "      <td>0</td>\n",
              "      <td>0.1170</td>\n",
              "      <td>102.002</td>\n",
              "      <td>3</td>\n",
              "      <td>0.8260</td>\n",
              "    </tr>\n",
              "    <tr>\n",
              "      <th>3</th>\n",
              "      <td>Be Glorified</td>\n",
              "      <td>360055</td>\n",
              "      <td>39</td>\n",
              "      <td>0.0726</td>\n",
              "      <td>0.553</td>\n",
              "      <td>307040</td>\n",
              "      <td>0.718</td>\n",
              "      <td>0.000003</td>\n",
              "      <td>8</td>\n",
              "      <td>0.1520</td>\n",
              "      <td>-6.385</td>\n",
              "      <td>0</td>\n",
              "      <td>0.0248</td>\n",
              "      <td>87.989</td>\n",
              "      <td>3</td>\n",
              "      <td>0.6770</td>\n",
              "    </tr>\n",
              "    <tr>\n",
              "      <th>4</th>\n",
              "      <td>Guilty Pleasure</td>\n",
              "      <td>745239</td>\n",
              "      <td>57</td>\n",
              "      <td>0.0032</td>\n",
              "      <td>0.641</td>\n",
              "      <td>204435</td>\n",
              "      <td>0.844</td>\n",
              "      <td>0.000000</td>\n",
              "      <td>9</td>\n",
              "      <td>0.1060</td>\n",
              "      <td>-5.758</td>\n",
              "      <td>0</td>\n",
              "      <td>0.0465</td>\n",
              "      <td>150.030</td>\n",
              "      <td>3</td>\n",
              "      <td>0.8340</td>\n",
              "    </tr>\n",
              "    <tr>\n",
              "      <th>...</th>\n",
              "      <td>...</td>\n",
              "      <td>...</td>\n",
              "      <td>...</td>\n",
              "      <td>...</td>\n",
              "      <td>...</td>\n",
              "      <td>...</td>\n",
              "      <td>...</td>\n",
              "      <td>...</td>\n",
              "      <td>...</td>\n",
              "      <td>...</td>\n",
              "      <td>...</td>\n",
              "      <td>...</td>\n",
              "      <td>...</td>\n",
              "      <td>...</td>\n",
              "      <td>...</td>\n",
              "      <td>...</td>\n",
              "    </tr>\n",
              "    <tr>\n",
              "      <th>23995</th>\n",
              "      <td>Make Me Wanna</td>\n",
              "      <td>74370</td>\n",
              "      <td>62</td>\n",
              "      <td>0.0369</td>\n",
              "      <td>0.545</td>\n",
              "      <td>225067</td>\n",
              "      <td>0.818</td>\n",
              "      <td>0.000000</td>\n",
              "      <td>0</td>\n",
              "      <td>0.1010</td>\n",
              "      <td>-6.380</td>\n",
              "      <td>0</td>\n",
              "      <td>0.0541</td>\n",
              "      <td>109.019</td>\n",
              "      <td>2</td>\n",
              "      <td>0.6790</td>\n",
              "    </tr>\n",
              "    <tr>\n",
              "      <th>23996</th>\n",
              "      <td>Maui Battles - Score Demo</td>\n",
              "      <td>19552</td>\n",
              "      <td>41</td>\n",
              "      <td>0.2350</td>\n",
              "      <td>0.232</td>\n",
              "      <td>117733</td>\n",
              "      <td>0.587</td>\n",
              "      <td>0.918000</td>\n",
              "      <td>1</td>\n",
              "      <td>0.3950</td>\n",
              "      <td>-13.186</td>\n",
              "      <td>1</td>\n",
              "      <td>0.1010</td>\n",
              "      <td>81.943</td>\n",
              "      <td>3</td>\n",
              "      <td>0.1130</td>\n",
              "    </tr>\n",
              "    <tr>\n",
              "      <th>23997</th>\n",
              "      <td>6 Concerts transcrits en sextuor / 6e concert:...</td>\n",
              "      <td>549733</td>\n",
              "      <td>15</td>\n",
              "      <td>0.8900</td>\n",
              "      <td>0.624</td>\n",
              "      <td>248733</td>\n",
              "      <td>0.269</td>\n",
              "      <td>0.879000</td>\n",
              "      <td>8</td>\n",
              "      <td>0.1200</td>\n",
              "      <td>-20.798</td>\n",
              "      <td>1</td>\n",
              "      <td>0.0391</td>\n",
              "      <td>128.212</td>\n",
              "      <td>2</td>\n",
              "      <td>0.3820</td>\n",
              "    </tr>\n",
              "    <tr>\n",
              "      <th>23998</th>\n",
              "      <td>Puccini: La bohème, Act 1: \"O soave fanciulla\"...</td>\n",
              "      <td>884432</td>\n",
              "      <td>13</td>\n",
              "      <td>0.9780</td>\n",
              "      <td>0.196</td>\n",
              "      <td>248307</td>\n",
              "      <td>0.134</td>\n",
              "      <td>0.026100</td>\n",
              "      <td>5</td>\n",
              "      <td>0.1180</td>\n",
              "      <td>-13.981</td>\n",
              "      <td>1</td>\n",
              "      <td>0.0365</td>\n",
              "      <td>84.730</td>\n",
              "      <td>3</td>\n",
              "      <td>0.0386</td>\n",
              "    </tr>\n",
              "    <tr>\n",
              "      <th>23999</th>\n",
              "      <td>Flava in Ya Ear</td>\n",
              "      <td>71588</td>\n",
              "      <td>53</td>\n",
              "      <td>0.4660</td>\n",
              "      <td>0.763</td>\n",
              "      <td>217467</td>\n",
              "      <td>0.541</td>\n",
              "      <td>0.000000</td>\n",
              "      <td>0</td>\n",
              "      <td>0.0693</td>\n",
              "      <td>-8.843</td>\n",
              "      <td>1</td>\n",
              "      <td>0.3290</td>\n",
              "      <td>90.032</td>\n",
              "      <td>3</td>\n",
              "      <td>0.8850</td>\n",
              "    </tr>\n",
              "  </tbody>\n",
              "</table>\n",
              "<p>24000 rows × 16 columns</p>\n",
              "</div>\n",
              "    <div class=\"colab-df-buttons\">\n",
              "\n",
              "  <div class=\"colab-df-container\">\n",
              "    <button class=\"colab-df-convert\" onclick=\"convertToInteractive('df-b4fb531c-7087-419e-b5cc-17a24157f1b5')\"\n",
              "            title=\"Convert this dataframe to an interactive table.\"\n",
              "            style=\"display:none;\">\n",
              "\n",
              "  <svg xmlns=\"http://www.w3.org/2000/svg\" height=\"24px\" viewBox=\"0 -960 960 960\">\n",
              "    <path d=\"M120-120v-720h720v720H120Zm60-500h600v-160H180v160Zm220 220h160v-160H400v160Zm0 220h160v-160H400v160ZM180-400h160v-160H180v160Zm440 0h160v-160H620v160ZM180-180h160v-160H180v160Zm440 0h160v-160H620v160Z\"/>\n",
              "  </svg>\n",
              "    </button>\n",
              "\n",
              "  <style>\n",
              "    .colab-df-container {\n",
              "      display:flex;\n",
              "      gap: 12px;\n",
              "    }\n",
              "\n",
              "    .colab-df-convert {\n",
              "      background-color: #E8F0FE;\n",
              "      border: none;\n",
              "      border-radius: 50%;\n",
              "      cursor: pointer;\n",
              "      display: none;\n",
              "      fill: #1967D2;\n",
              "      height: 32px;\n",
              "      padding: 0 0 0 0;\n",
              "      width: 32px;\n",
              "    }\n",
              "\n",
              "    .colab-df-convert:hover {\n",
              "      background-color: #E2EBFA;\n",
              "      box-shadow: 0px 1px 2px rgba(60, 64, 67, 0.3), 0px 1px 3px 1px rgba(60, 64, 67, 0.15);\n",
              "      fill: #174EA6;\n",
              "    }\n",
              "\n",
              "    .colab-df-buttons div {\n",
              "      margin-bottom: 4px;\n",
              "    }\n",
              "\n",
              "    [theme=dark] .colab-df-convert {\n",
              "      background-color: #3B4455;\n",
              "      fill: #D2E3FC;\n",
              "    }\n",
              "\n",
              "    [theme=dark] .colab-df-convert:hover {\n",
              "      background-color: #434B5C;\n",
              "      box-shadow: 0px 1px 3px 1px rgba(0, 0, 0, 0.15);\n",
              "      filter: drop-shadow(0px 1px 2px rgba(0, 0, 0, 0.3));\n",
              "      fill: #FFFFFF;\n",
              "    }\n",
              "  </style>\n",
              "\n",
              "    <script>\n",
              "      const buttonEl =\n",
              "        document.querySelector('#df-b4fb531c-7087-419e-b5cc-17a24157f1b5 button.colab-df-convert');\n",
              "      buttonEl.style.display =\n",
              "        google.colab.kernel.accessAllowed ? 'block' : 'none';\n",
              "\n",
              "      async function convertToInteractive(key) {\n",
              "        const element = document.querySelector('#df-b4fb531c-7087-419e-b5cc-17a24157f1b5');\n",
              "        const dataTable =\n",
              "          await google.colab.kernel.invokeFunction('convertToInteractive',\n",
              "                                                    [key], {});\n",
              "        if (!dataTable) return;\n",
              "\n",
              "        const docLinkHtml = 'Like what you see? Visit the ' +\n",
              "          '<a target=\"_blank\" href=https://colab.research.google.com/notebooks/data_table.ipynb>data table notebook</a>'\n",
              "          + ' to learn more about interactive tables.';\n",
              "        element.innerHTML = '';\n",
              "        dataTable['output_type'] = 'display_data';\n",
              "        await google.colab.output.renderOutput(dataTable, element);\n",
              "        const docLink = document.createElement('div');\n",
              "        docLink.innerHTML = docLinkHtml;\n",
              "        element.appendChild(docLink);\n",
              "      }\n",
              "    </script>\n",
              "  </div>\n",
              "\n",
              "\n",
              "<div id=\"df-d51b9924-8e6e-40ac-b133-b1be9e1094ad\">\n",
              "  <button class=\"colab-df-quickchart\" onclick=\"quickchart('df-d51b9924-8e6e-40ac-b133-b1be9e1094ad')\"\n",
              "            title=\"Suggest charts\"\n",
              "            style=\"display:none;\">\n",
              "\n",
              "<svg xmlns=\"http://www.w3.org/2000/svg\" height=\"24px\"viewBox=\"0 0 24 24\"\n",
              "     width=\"24px\">\n",
              "    <g>\n",
              "        <path d=\"M19 3H5c-1.1 0-2 .9-2 2v14c0 1.1.9 2 2 2h14c1.1 0 2-.9 2-2V5c0-1.1-.9-2-2-2zM9 17H7v-7h2v7zm4 0h-2V7h2v10zm4 0h-2v-4h2v4z\"/>\n",
              "    </g>\n",
              "</svg>\n",
              "  </button>\n",
              "\n",
              "<style>\n",
              "  .colab-df-quickchart {\n",
              "      --bg-color: #E8F0FE;\n",
              "      --fill-color: #1967D2;\n",
              "      --hover-bg-color: #E2EBFA;\n",
              "      --hover-fill-color: #174EA6;\n",
              "      --disabled-fill-color: #AAA;\n",
              "      --disabled-bg-color: #DDD;\n",
              "  }\n",
              "\n",
              "  [theme=dark] .colab-df-quickchart {\n",
              "      --bg-color: #3B4455;\n",
              "      --fill-color: #D2E3FC;\n",
              "      --hover-bg-color: #434B5C;\n",
              "      --hover-fill-color: #FFFFFF;\n",
              "      --disabled-bg-color: #3B4455;\n",
              "      --disabled-fill-color: #666;\n",
              "  }\n",
              "\n",
              "  .colab-df-quickchart {\n",
              "    background-color: var(--bg-color);\n",
              "    border: none;\n",
              "    border-radius: 50%;\n",
              "    cursor: pointer;\n",
              "    display: none;\n",
              "    fill: var(--fill-color);\n",
              "    height: 32px;\n",
              "    padding: 0;\n",
              "    width: 32px;\n",
              "  }\n",
              "\n",
              "  .colab-df-quickchart:hover {\n",
              "    background-color: var(--hover-bg-color);\n",
              "    box-shadow: 0 1px 2px rgba(60, 64, 67, 0.3), 0 1px 3px 1px rgba(60, 64, 67, 0.15);\n",
              "    fill: var(--button-hover-fill-color);\n",
              "  }\n",
              "\n",
              "  .colab-df-quickchart-complete:disabled,\n",
              "  .colab-df-quickchart-complete:disabled:hover {\n",
              "    background-color: var(--disabled-bg-color);\n",
              "    fill: var(--disabled-fill-color);\n",
              "    box-shadow: none;\n",
              "  }\n",
              "\n",
              "  .colab-df-spinner {\n",
              "    border: 2px solid var(--fill-color);\n",
              "    border-color: transparent;\n",
              "    border-bottom-color: var(--fill-color);\n",
              "    animation:\n",
              "      spin 1s steps(1) infinite;\n",
              "  }\n",
              "\n",
              "  @keyframes spin {\n",
              "    0% {\n",
              "      border-color: transparent;\n",
              "      border-bottom-color: var(--fill-color);\n",
              "      border-left-color: var(--fill-color);\n",
              "    }\n",
              "    20% {\n",
              "      border-color: transparent;\n",
              "      border-left-color: var(--fill-color);\n",
              "      border-top-color: var(--fill-color);\n",
              "    }\n",
              "    30% {\n",
              "      border-color: transparent;\n",
              "      border-left-color: var(--fill-color);\n",
              "      border-top-color: var(--fill-color);\n",
              "      border-right-color: var(--fill-color);\n",
              "    }\n",
              "    40% {\n",
              "      border-color: transparent;\n",
              "      border-right-color: var(--fill-color);\n",
              "      border-top-color: var(--fill-color);\n",
              "    }\n",
              "    60% {\n",
              "      border-color: transparent;\n",
              "      border-right-color: var(--fill-color);\n",
              "    }\n",
              "    80% {\n",
              "      border-color: transparent;\n",
              "      border-right-color: var(--fill-color);\n",
              "      border-bottom-color: var(--fill-color);\n",
              "    }\n",
              "    90% {\n",
              "      border-color: transparent;\n",
              "      border-bottom-color: var(--fill-color);\n",
              "    }\n",
              "  }\n",
              "</style>\n",
              "\n",
              "  <script>\n",
              "    async function quickchart(key) {\n",
              "      const quickchartButtonEl =\n",
              "        document.querySelector('#' + key + ' button');\n",
              "      quickchartButtonEl.disabled = true;  // To prevent multiple clicks.\n",
              "      quickchartButtonEl.classList.add('colab-df-spinner');\n",
              "      try {\n",
              "        const charts = await google.colab.kernel.invokeFunction(\n",
              "            'suggestCharts', [key], {});\n",
              "      } catch (error) {\n",
              "        console.error('Error during call to suggestCharts:', error);\n",
              "      }\n",
              "      quickchartButtonEl.classList.remove('colab-df-spinner');\n",
              "      quickchartButtonEl.classList.add('colab-df-quickchart-complete');\n",
              "    }\n",
              "    (() => {\n",
              "      let quickchartButtonEl =\n",
              "        document.querySelector('#df-d51b9924-8e6e-40ac-b133-b1be9e1094ad button');\n",
              "      quickchartButtonEl.style.display =\n",
              "        google.colab.kernel.accessAllowed ? 'block' : 'none';\n",
              "    })();\n",
              "  </script>\n",
              "</div>\n",
              "    </div>\n",
              "  </div>\n"
            ]
          },
          "metadata": {},
          "execution_count": 4
        }
      ],
      "source": [
        "train"
      ]
    },
    {
      "cell_type": "markdown",
      "source": [
        "Vemos que no haya valores nulos"
      ],
      "metadata": {
        "id": "iGHd9PTL13mu"
      }
    },
    {
      "cell_type": "code",
      "source": [
        "train.isna().sum().sum()"
      ],
      "metadata": {
        "colab": {
          "base_uri": "https://localhost:8080/"
        },
        "id": "Qy2E98x81s-q",
        "outputId": "bef8cc4a-e8f1-41bb-8dac-3146852b6a52"
      },
      "execution_count": 5,
      "outputs": [
        {
          "output_type": "execute_result",
          "data": {
            "text/plain": [
              "0"
            ]
          },
          "metadata": {},
          "execution_count": 5
        }
      ]
    },
    {
      "cell_type": "code",
      "source": [
        "test.isna().sum().sum()"
      ],
      "metadata": {
        "colab": {
          "base_uri": "https://localhost:8080/"
        },
        "id": "Q9czIcM61vQS",
        "outputId": "29873b1a-dd9a-4b00-d81e-4b43fcbdbd6a"
      },
      "execution_count": 6,
      "outputs": [
        {
          "output_type": "execute_result",
          "data": {
            "text/plain": [
              "0"
            ]
          },
          "metadata": {},
          "execution_count": 6
        }
      ]
    },
    {
      "cell_type": "markdown",
      "source": [
        "Vemos que nos viene una columna song_id en el dataset, y aunque nos tiente usar esa como id vamos a ver que no haya fallos de ids repetidos y canciones duplicadas."
      ],
      "metadata": {
        "id": "zUDgHtgiwc6s"
      }
    },
    {
      "cell_type": "code",
      "execution_count": 7,
      "metadata": {
        "id": "A7K0OTxCuVlV",
        "outputId": "0d331053-faa8-4d5c-ce60-5ef6da89a0d6",
        "colab": {
          "base_uri": "https://localhost:8080/"
        }
      },
      "outputs": [
        {
          "output_type": "stream",
          "name": "stdout",
          "text": [
            "False\n",
            "False\n"
          ]
        }
      ],
      "source": [
        "# Miramos que no haya  duplicadas\n",
        "print(train['song_id'].is_unique)\n",
        "print(train.duplicated().any())\n"
      ]
    },
    {
      "cell_type": "code",
      "source": [
        "print(test['song_id'].is_unique)\n",
        "print(test.duplicated().any())"
      ],
      "metadata": {
        "colab": {
          "base_uri": "https://localhost:8080/"
        },
        "id": "4cSMDGeYw5Bw",
        "outputId": "175bc466-c2a5-4077-edf6-c4409e0f2c8a"
      },
      "execution_count": 8,
      "outputs": [
        {
          "output_type": "stream",
          "name": "stdout",
          "text": [
            "False\n",
            "False\n"
          ]
        }
      ]
    },
    {
      "cell_type": "markdown",
      "source": [
        "Observamos que aunque haya song_id repetidos, no hay filas duplicadas, por lo que creemos que hay canciones con el mismo song_id. Asi que hemos decidido borrar la columna song_id y quedarnos con el index que asigna pandas a cada fila, ya que no hay ninguna repetida.\n",
        "Ademas, vamos a borrar song_name por su irrelevancia de cara a la popularidad"
      ],
      "metadata": {
        "id": "EGcJ5bZdxSQq"
      }
    },
    {
      "cell_type": "code",
      "source": [
        "train.drop(columns=['song_id', 'song_name'],inplace=True)\n",
        "test.drop(columns=['song_id', 'song_name'],inplace=True)"
      ],
      "metadata": {
        "id": "4z-2-DXgx2KL"
      },
      "execution_count": 9,
      "outputs": []
    },
    {
      "cell_type": "code",
      "source": [
        "#Volvemos a ver si hay duplicados\n",
        "print(train.duplicated().any())\n",
        "print(test.duplicated().any())"
      ],
      "metadata": {
        "colab": {
          "base_uri": "https://localhost:8080/"
        },
        "id": "7qpHB_05x2Fo",
        "outputId": "34907fa3-930f-4823-c85b-2216598392cb"
      },
      "execution_count": 10,
      "outputs": [
        {
          "output_type": "stream",
          "name": "stdout",
          "text": [
            "True\n",
            "True\n"
          ]
        }
      ]
    },
    {
      "cell_type": "code",
      "execution_count": 11,
      "metadata": {
        "id": "P99EPLTYuVlV"
      },
      "outputs": [],
      "source": [
        "#Los borramos\n",
        "train.drop_duplicates(inplace=True)\n",
        "test.drop_duplicates(inplace=True)"
      ]
    },
    {
      "cell_type": "code",
      "execution_count": 12,
      "metadata": {
        "id": "52HuEUffuVlW",
        "outputId": "5165d544-7985-47a4-b63b-18c0d2767d66",
        "colab": {
          "base_uri": "https://localhost:8080/",
          "height": 443
        }
      },
      "outputs": [
        {
          "output_type": "execute_result",
          "data": {
            "text/plain": [
              "       popularity  acousticness  danceability  song_duration_ms  energy  \\\n",
              "0              34        0.5350         0.584            218227   0.459   \n",
              "1              47        0.3210         0.758            206600   0.503   \n",
              "2              25        0.1680         0.732            304970   0.824   \n",
              "3              39        0.0726         0.553            307040   0.718   \n",
              "4              57        0.0032         0.641            204435   0.844   \n",
              "...           ...           ...           ...               ...     ...   \n",
              "23994          31        0.8160         0.730            244613   0.626   \n",
              "23995          62        0.0369         0.545            225067   0.818   \n",
              "23996          41        0.2350         0.232            117733   0.587   \n",
              "23997          15        0.8900         0.624            248733   0.269   \n",
              "23998          13        0.9780         0.196            248307   0.134   \n",
              "\n",
              "       instrumentalness  key  liveness  loudness  audio_mode  speechiness  \\\n",
              "0              0.034200    0     0.153   -14.127           0       0.0319   \n",
              "1              0.000234    0     0.121   -11.445           0       0.1600   \n",
              "2              0.000021   11     0.942    -9.296           0       0.1170   \n",
              "3              0.000003    8     0.152    -6.385           0       0.0248   \n",
              "4              0.000000    9     0.106    -5.758           0       0.0465   \n",
              "...                 ...  ...       ...       ...         ...          ...   \n",
              "23994          0.795000   10     0.123   -11.021           1       0.0299   \n",
              "23995          0.000000    0     0.101    -6.380           0       0.0541   \n",
              "23996          0.918000    1     0.395   -13.186           1       0.1010   \n",
              "23997          0.879000    8     0.120   -20.798           1       0.0391   \n",
              "23998          0.026100    5     0.118   -13.981           1       0.0365   \n",
              "\n",
              "         tempo  time_signature  audio_valence  \n",
              "0      124.465               3         0.7650  \n",
              "1      120.027               3         0.4770  \n",
              "2      102.002               3         0.8260  \n",
              "3       87.989               3         0.6770  \n",
              "4      150.030               3         0.8340  \n",
              "...        ...             ...            ...  \n",
              "23994  115.954               3         0.7570  \n",
              "23995  109.019               2         0.6790  \n",
              "23996   81.943               3         0.1130  \n",
              "23997  128.212               2         0.3820  \n",
              "23998   84.730               3         0.0386  \n",
              "\n",
              "[23423 rows x 14 columns]"
            ],
            "text/html": [
              "\n",
              "  <div id=\"df-b7e1af75-ffea-43f8-b7f1-11d7d6e8cdf6\" class=\"colab-df-container\">\n",
              "    <div>\n",
              "<style scoped>\n",
              "    .dataframe tbody tr th:only-of-type {\n",
              "        vertical-align: middle;\n",
              "    }\n",
              "\n",
              "    .dataframe tbody tr th {\n",
              "        vertical-align: top;\n",
              "    }\n",
              "\n",
              "    .dataframe thead th {\n",
              "        text-align: right;\n",
              "    }\n",
              "</style>\n",
              "<table border=\"1\" class=\"dataframe\">\n",
              "  <thead>\n",
              "    <tr style=\"text-align: right;\">\n",
              "      <th></th>\n",
              "      <th>popularity</th>\n",
              "      <th>acousticness</th>\n",
              "      <th>danceability</th>\n",
              "      <th>song_duration_ms</th>\n",
              "      <th>energy</th>\n",
              "      <th>instrumentalness</th>\n",
              "      <th>key</th>\n",
              "      <th>liveness</th>\n",
              "      <th>loudness</th>\n",
              "      <th>audio_mode</th>\n",
              "      <th>speechiness</th>\n",
              "      <th>tempo</th>\n",
              "      <th>time_signature</th>\n",
              "      <th>audio_valence</th>\n",
              "    </tr>\n",
              "  </thead>\n",
              "  <tbody>\n",
              "    <tr>\n",
              "      <th>0</th>\n",
              "      <td>34</td>\n",
              "      <td>0.5350</td>\n",
              "      <td>0.584</td>\n",
              "      <td>218227</td>\n",
              "      <td>0.459</td>\n",
              "      <td>0.034200</td>\n",
              "      <td>0</td>\n",
              "      <td>0.153</td>\n",
              "      <td>-14.127</td>\n",
              "      <td>0</td>\n",
              "      <td>0.0319</td>\n",
              "      <td>124.465</td>\n",
              "      <td>3</td>\n",
              "      <td>0.7650</td>\n",
              "    </tr>\n",
              "    <tr>\n",
              "      <th>1</th>\n",
              "      <td>47</td>\n",
              "      <td>0.3210</td>\n",
              "      <td>0.758</td>\n",
              "      <td>206600</td>\n",
              "      <td>0.503</td>\n",
              "      <td>0.000234</td>\n",
              "      <td>0</td>\n",
              "      <td>0.121</td>\n",
              "      <td>-11.445</td>\n",
              "      <td>0</td>\n",
              "      <td>0.1600</td>\n",
              "      <td>120.027</td>\n",
              "      <td>3</td>\n",
              "      <td>0.4770</td>\n",
              "    </tr>\n",
              "    <tr>\n",
              "      <th>2</th>\n",
              "      <td>25</td>\n",
              "      <td>0.1680</td>\n",
              "      <td>0.732</td>\n",
              "      <td>304970</td>\n",
              "      <td>0.824</td>\n",
              "      <td>0.000021</td>\n",
              "      <td>11</td>\n",
              "      <td>0.942</td>\n",
              "      <td>-9.296</td>\n",
              "      <td>0</td>\n",
              "      <td>0.1170</td>\n",
              "      <td>102.002</td>\n",
              "      <td>3</td>\n",
              "      <td>0.8260</td>\n",
              "    </tr>\n",
              "    <tr>\n",
              "      <th>3</th>\n",
              "      <td>39</td>\n",
              "      <td>0.0726</td>\n",
              "      <td>0.553</td>\n",
              "      <td>307040</td>\n",
              "      <td>0.718</td>\n",
              "      <td>0.000003</td>\n",
              "      <td>8</td>\n",
              "      <td>0.152</td>\n",
              "      <td>-6.385</td>\n",
              "      <td>0</td>\n",
              "      <td>0.0248</td>\n",
              "      <td>87.989</td>\n",
              "      <td>3</td>\n",
              "      <td>0.6770</td>\n",
              "    </tr>\n",
              "    <tr>\n",
              "      <th>4</th>\n",
              "      <td>57</td>\n",
              "      <td>0.0032</td>\n",
              "      <td>0.641</td>\n",
              "      <td>204435</td>\n",
              "      <td>0.844</td>\n",
              "      <td>0.000000</td>\n",
              "      <td>9</td>\n",
              "      <td>0.106</td>\n",
              "      <td>-5.758</td>\n",
              "      <td>0</td>\n",
              "      <td>0.0465</td>\n",
              "      <td>150.030</td>\n",
              "      <td>3</td>\n",
              "      <td>0.8340</td>\n",
              "    </tr>\n",
              "    <tr>\n",
              "      <th>...</th>\n",
              "      <td>...</td>\n",
              "      <td>...</td>\n",
              "      <td>...</td>\n",
              "      <td>...</td>\n",
              "      <td>...</td>\n",
              "      <td>...</td>\n",
              "      <td>...</td>\n",
              "      <td>...</td>\n",
              "      <td>...</td>\n",
              "      <td>...</td>\n",
              "      <td>...</td>\n",
              "      <td>...</td>\n",
              "      <td>...</td>\n",
              "      <td>...</td>\n",
              "    </tr>\n",
              "    <tr>\n",
              "      <th>23994</th>\n",
              "      <td>31</td>\n",
              "      <td>0.8160</td>\n",
              "      <td>0.730</td>\n",
              "      <td>244613</td>\n",
              "      <td>0.626</td>\n",
              "      <td>0.795000</td>\n",
              "      <td>10</td>\n",
              "      <td>0.123</td>\n",
              "      <td>-11.021</td>\n",
              "      <td>1</td>\n",
              "      <td>0.0299</td>\n",
              "      <td>115.954</td>\n",
              "      <td>3</td>\n",
              "      <td>0.7570</td>\n",
              "    </tr>\n",
              "    <tr>\n",
              "      <th>23995</th>\n",
              "      <td>62</td>\n",
              "      <td>0.0369</td>\n",
              "      <td>0.545</td>\n",
              "      <td>225067</td>\n",
              "      <td>0.818</td>\n",
              "      <td>0.000000</td>\n",
              "      <td>0</td>\n",
              "      <td>0.101</td>\n",
              "      <td>-6.380</td>\n",
              "      <td>0</td>\n",
              "      <td>0.0541</td>\n",
              "      <td>109.019</td>\n",
              "      <td>2</td>\n",
              "      <td>0.6790</td>\n",
              "    </tr>\n",
              "    <tr>\n",
              "      <th>23996</th>\n",
              "      <td>41</td>\n",
              "      <td>0.2350</td>\n",
              "      <td>0.232</td>\n",
              "      <td>117733</td>\n",
              "      <td>0.587</td>\n",
              "      <td>0.918000</td>\n",
              "      <td>1</td>\n",
              "      <td>0.395</td>\n",
              "      <td>-13.186</td>\n",
              "      <td>1</td>\n",
              "      <td>0.1010</td>\n",
              "      <td>81.943</td>\n",
              "      <td>3</td>\n",
              "      <td>0.1130</td>\n",
              "    </tr>\n",
              "    <tr>\n",
              "      <th>23997</th>\n",
              "      <td>15</td>\n",
              "      <td>0.8900</td>\n",
              "      <td>0.624</td>\n",
              "      <td>248733</td>\n",
              "      <td>0.269</td>\n",
              "      <td>0.879000</td>\n",
              "      <td>8</td>\n",
              "      <td>0.120</td>\n",
              "      <td>-20.798</td>\n",
              "      <td>1</td>\n",
              "      <td>0.0391</td>\n",
              "      <td>128.212</td>\n",
              "      <td>2</td>\n",
              "      <td>0.3820</td>\n",
              "    </tr>\n",
              "    <tr>\n",
              "      <th>23998</th>\n",
              "      <td>13</td>\n",
              "      <td>0.9780</td>\n",
              "      <td>0.196</td>\n",
              "      <td>248307</td>\n",
              "      <td>0.134</td>\n",
              "      <td>0.026100</td>\n",
              "      <td>5</td>\n",
              "      <td>0.118</td>\n",
              "      <td>-13.981</td>\n",
              "      <td>1</td>\n",
              "      <td>0.0365</td>\n",
              "      <td>84.730</td>\n",
              "      <td>3</td>\n",
              "      <td>0.0386</td>\n",
              "    </tr>\n",
              "  </tbody>\n",
              "</table>\n",
              "<p>23423 rows × 14 columns</p>\n",
              "</div>\n",
              "    <div class=\"colab-df-buttons\">\n",
              "\n",
              "  <div class=\"colab-df-container\">\n",
              "    <button class=\"colab-df-convert\" onclick=\"convertToInteractive('df-b7e1af75-ffea-43f8-b7f1-11d7d6e8cdf6')\"\n",
              "            title=\"Convert this dataframe to an interactive table.\"\n",
              "            style=\"display:none;\">\n",
              "\n",
              "  <svg xmlns=\"http://www.w3.org/2000/svg\" height=\"24px\" viewBox=\"0 -960 960 960\">\n",
              "    <path d=\"M120-120v-720h720v720H120Zm60-500h600v-160H180v160Zm220 220h160v-160H400v160Zm0 220h160v-160H400v160ZM180-400h160v-160H180v160Zm440 0h160v-160H620v160ZM180-180h160v-160H180v160Zm440 0h160v-160H620v160Z\"/>\n",
              "  </svg>\n",
              "    </button>\n",
              "\n",
              "  <style>\n",
              "    .colab-df-container {\n",
              "      display:flex;\n",
              "      gap: 12px;\n",
              "    }\n",
              "\n",
              "    .colab-df-convert {\n",
              "      background-color: #E8F0FE;\n",
              "      border: none;\n",
              "      border-radius: 50%;\n",
              "      cursor: pointer;\n",
              "      display: none;\n",
              "      fill: #1967D2;\n",
              "      height: 32px;\n",
              "      padding: 0 0 0 0;\n",
              "      width: 32px;\n",
              "    }\n",
              "\n",
              "    .colab-df-convert:hover {\n",
              "      background-color: #E2EBFA;\n",
              "      box-shadow: 0px 1px 2px rgba(60, 64, 67, 0.3), 0px 1px 3px 1px rgba(60, 64, 67, 0.15);\n",
              "      fill: #174EA6;\n",
              "    }\n",
              "\n",
              "    .colab-df-buttons div {\n",
              "      margin-bottom: 4px;\n",
              "    }\n",
              "\n",
              "    [theme=dark] .colab-df-convert {\n",
              "      background-color: #3B4455;\n",
              "      fill: #D2E3FC;\n",
              "    }\n",
              "\n",
              "    [theme=dark] .colab-df-convert:hover {\n",
              "      background-color: #434B5C;\n",
              "      box-shadow: 0px 1px 3px 1px rgba(0, 0, 0, 0.15);\n",
              "      filter: drop-shadow(0px 1px 2px rgba(0, 0, 0, 0.3));\n",
              "      fill: #FFFFFF;\n",
              "    }\n",
              "  </style>\n",
              "\n",
              "    <script>\n",
              "      const buttonEl =\n",
              "        document.querySelector('#df-b7e1af75-ffea-43f8-b7f1-11d7d6e8cdf6 button.colab-df-convert');\n",
              "      buttonEl.style.display =\n",
              "        google.colab.kernel.accessAllowed ? 'block' : 'none';\n",
              "\n",
              "      async function convertToInteractive(key) {\n",
              "        const element = document.querySelector('#df-b7e1af75-ffea-43f8-b7f1-11d7d6e8cdf6');\n",
              "        const dataTable =\n",
              "          await google.colab.kernel.invokeFunction('convertToInteractive',\n",
              "                                                    [key], {});\n",
              "        if (!dataTable) return;\n",
              "\n",
              "        const docLinkHtml = 'Like what you see? Visit the ' +\n",
              "          '<a target=\"_blank\" href=https://colab.research.google.com/notebooks/data_table.ipynb>data table notebook</a>'\n",
              "          + ' to learn more about interactive tables.';\n",
              "        element.innerHTML = '';\n",
              "        dataTable['output_type'] = 'display_data';\n",
              "        await google.colab.output.renderOutput(dataTable, element);\n",
              "        const docLink = document.createElement('div');\n",
              "        docLink.innerHTML = docLinkHtml;\n",
              "        element.appendChild(docLink);\n",
              "      }\n",
              "    </script>\n",
              "  </div>\n",
              "\n",
              "\n",
              "<div id=\"df-1c6c3144-d4f6-447d-a003-8b6f22be940e\">\n",
              "  <button class=\"colab-df-quickchart\" onclick=\"quickchart('df-1c6c3144-d4f6-447d-a003-8b6f22be940e')\"\n",
              "            title=\"Suggest charts\"\n",
              "            style=\"display:none;\">\n",
              "\n",
              "<svg xmlns=\"http://www.w3.org/2000/svg\" height=\"24px\"viewBox=\"0 0 24 24\"\n",
              "     width=\"24px\">\n",
              "    <g>\n",
              "        <path d=\"M19 3H5c-1.1 0-2 .9-2 2v14c0 1.1.9 2 2 2h14c1.1 0 2-.9 2-2V5c0-1.1-.9-2-2-2zM9 17H7v-7h2v7zm4 0h-2V7h2v10zm4 0h-2v-4h2v4z\"/>\n",
              "    </g>\n",
              "</svg>\n",
              "  </button>\n",
              "\n",
              "<style>\n",
              "  .colab-df-quickchart {\n",
              "      --bg-color: #E8F0FE;\n",
              "      --fill-color: #1967D2;\n",
              "      --hover-bg-color: #E2EBFA;\n",
              "      --hover-fill-color: #174EA6;\n",
              "      --disabled-fill-color: #AAA;\n",
              "      --disabled-bg-color: #DDD;\n",
              "  }\n",
              "\n",
              "  [theme=dark] .colab-df-quickchart {\n",
              "      --bg-color: #3B4455;\n",
              "      --fill-color: #D2E3FC;\n",
              "      --hover-bg-color: #434B5C;\n",
              "      --hover-fill-color: #FFFFFF;\n",
              "      --disabled-bg-color: #3B4455;\n",
              "      --disabled-fill-color: #666;\n",
              "  }\n",
              "\n",
              "  .colab-df-quickchart {\n",
              "    background-color: var(--bg-color);\n",
              "    border: none;\n",
              "    border-radius: 50%;\n",
              "    cursor: pointer;\n",
              "    display: none;\n",
              "    fill: var(--fill-color);\n",
              "    height: 32px;\n",
              "    padding: 0;\n",
              "    width: 32px;\n",
              "  }\n",
              "\n",
              "  .colab-df-quickchart:hover {\n",
              "    background-color: var(--hover-bg-color);\n",
              "    box-shadow: 0 1px 2px rgba(60, 64, 67, 0.3), 0 1px 3px 1px rgba(60, 64, 67, 0.15);\n",
              "    fill: var(--button-hover-fill-color);\n",
              "  }\n",
              "\n",
              "  .colab-df-quickchart-complete:disabled,\n",
              "  .colab-df-quickchart-complete:disabled:hover {\n",
              "    background-color: var(--disabled-bg-color);\n",
              "    fill: var(--disabled-fill-color);\n",
              "    box-shadow: none;\n",
              "  }\n",
              "\n",
              "  .colab-df-spinner {\n",
              "    border: 2px solid var(--fill-color);\n",
              "    border-color: transparent;\n",
              "    border-bottom-color: var(--fill-color);\n",
              "    animation:\n",
              "      spin 1s steps(1) infinite;\n",
              "  }\n",
              "\n",
              "  @keyframes spin {\n",
              "    0% {\n",
              "      border-color: transparent;\n",
              "      border-bottom-color: var(--fill-color);\n",
              "      border-left-color: var(--fill-color);\n",
              "    }\n",
              "    20% {\n",
              "      border-color: transparent;\n",
              "      border-left-color: var(--fill-color);\n",
              "      border-top-color: var(--fill-color);\n",
              "    }\n",
              "    30% {\n",
              "      border-color: transparent;\n",
              "      border-left-color: var(--fill-color);\n",
              "      border-top-color: var(--fill-color);\n",
              "      border-right-color: var(--fill-color);\n",
              "    }\n",
              "    40% {\n",
              "      border-color: transparent;\n",
              "      border-right-color: var(--fill-color);\n",
              "      border-top-color: var(--fill-color);\n",
              "    }\n",
              "    60% {\n",
              "      border-color: transparent;\n",
              "      border-right-color: var(--fill-color);\n",
              "    }\n",
              "    80% {\n",
              "      border-color: transparent;\n",
              "      border-right-color: var(--fill-color);\n",
              "      border-bottom-color: var(--fill-color);\n",
              "    }\n",
              "    90% {\n",
              "      border-color: transparent;\n",
              "      border-bottom-color: var(--fill-color);\n",
              "    }\n",
              "  }\n",
              "</style>\n",
              "\n",
              "  <script>\n",
              "    async function quickchart(key) {\n",
              "      const quickchartButtonEl =\n",
              "        document.querySelector('#' + key + ' button');\n",
              "      quickchartButtonEl.disabled = true;  // To prevent multiple clicks.\n",
              "      quickchartButtonEl.classList.add('colab-df-spinner');\n",
              "      try {\n",
              "        const charts = await google.colab.kernel.invokeFunction(\n",
              "            'suggestCharts', [key], {});\n",
              "      } catch (error) {\n",
              "        console.error('Error during call to suggestCharts:', error);\n",
              "      }\n",
              "      quickchartButtonEl.classList.remove('colab-df-spinner');\n",
              "      quickchartButtonEl.classList.add('colab-df-quickchart-complete');\n",
              "    }\n",
              "    (() => {\n",
              "      let quickchartButtonEl =\n",
              "        document.querySelector('#df-1c6c3144-d4f6-447d-a003-8b6f22be940e button');\n",
              "      quickchartButtonEl.style.display =\n",
              "        google.colab.kernel.accessAllowed ? 'block' : 'none';\n",
              "    })();\n",
              "  </script>\n",
              "</div>\n",
              "    </div>\n",
              "  </div>\n"
            ]
          },
          "metadata": {},
          "execution_count": 12
        }
      ],
      "source": [
        "train"
      ]
    },
    {
      "cell_type": "markdown",
      "metadata": {
        "id": "2VGKjaaOuVlW"
      },
      "source": [
        "Vemos que tipo de datos tenemos"
      ]
    },
    {
      "cell_type": "code",
      "execution_count": 13,
      "metadata": {
        "id": "NXidlBPJuVlW",
        "outputId": "ce2b14e6-d83b-4e5c-eaf9-1abe5df120f1",
        "colab": {
          "base_uri": "https://localhost:8080/"
        }
      },
      "outputs": [
        {
          "output_type": "execute_result",
          "data": {
            "text/plain": [
              "popularity            int64\n",
              "acousticness        float64\n",
              "danceability        float64\n",
              "song_duration_ms      int64\n",
              "energy              float64\n",
              "instrumentalness    float64\n",
              "key                   int64\n",
              "liveness            float64\n",
              "loudness            float64\n",
              "audio_mode            int64\n",
              "speechiness         float64\n",
              "tempo               float64\n",
              "time_signature        int64\n",
              "audio_valence       float64\n",
              "dtype: object"
            ]
          },
          "metadata": {},
          "execution_count": 13
        }
      ],
      "source": [
        "train.dtypes"
      ]
    },
    {
      "cell_type": "markdown",
      "metadata": {
        "id": "4OdGp0FQuVlX"
      },
      "source": [
        "Visualizamos la correlación de la popularidad con cada una de las columnas para ver si tienen alguna relación\n"
      ]
    },
    {
      "cell_type": "code",
      "execution_count": 14,
      "metadata": {
        "id": "WJP9x20cuVlX",
        "outputId": "0e07f4d1-921e-47e6-8fbf-fb96fda11ea4",
        "colab": {
          "base_uri": "https://localhost:8080/",
          "height": 508
        }
      },
      "outputs": [
        {
          "output_type": "execute_result",
          "data": {
            "text/plain": [
              "                 popularity acousticness danceability song_duration_ms  \\\n",
              "popularity                0            0            0                0   \n",
              "acousticness              0            0            0                0   \n",
              "danceability              0            0            0                0   \n",
              "song_duration_ms          0            0            0                0   \n",
              "energy                    0    -0.727525            0                0   \n",
              "instrumentalness          0            0            0                0   \n",
              "key                       0            0            0                0   \n",
              "liveness                  0            0            0                0   \n",
              "loudness                  0    -0.686973            0                0   \n",
              "audio_mode                0            0            0                0   \n",
              "speechiness               0            0            0                0   \n",
              "tempo                     0            0            0                0   \n",
              "time_signature            0            0            0                0   \n",
              "audio_valence             0            0      0.55425                0   \n",
              "\n",
              "                    energy instrumentalness key  liveness  loudness  \\\n",
              "popularity               0                0   0         0         0   \n",
              "acousticness     -0.727525                0   0         0 -0.686973   \n",
              "danceability             0                0   0         0         0   \n",
              "song_duration_ms         0                0   0         0         0   \n",
              "energy                   0                0   0         0  0.816218   \n",
              "instrumentalness         0                0   0         0 -0.504432   \n",
              "key                      0                0   0         0         0   \n",
              "liveness                 0                0   0         0         0   \n",
              "loudness          0.816218        -0.504432   0         0         0   \n",
              "audio_mode               0                0   0         0         0   \n",
              "speechiness              0                0   0  0.523957         0   \n",
              "tempo                    0                0   0         0         0   \n",
              "time_signature           0                0   0         0         0   \n",
              "audio_valence            0                0   0         0         0   \n",
              "\n",
              "                 audio_mode speechiness tempo time_signature audio_valence  \n",
              "popularity                0           0     0              0             0  \n",
              "acousticness              0           0     0              0             0  \n",
              "danceability              0           0     0              0       0.55425  \n",
              "song_duration_ms          0           0     0              0             0  \n",
              "energy                    0           0     0              0             0  \n",
              "instrumentalness          0           0     0              0             0  \n",
              "key                       0           0     0              0             0  \n",
              "liveness                  0    0.523957     0              0             0  \n",
              "loudness                  0           0     0              0             0  \n",
              "audio_mode                0           0     0              0             0  \n",
              "speechiness               0           0     0              0             0  \n",
              "tempo                     0           0     0              0             0  \n",
              "time_signature            0           0     0              0             0  \n",
              "audio_valence             0           0     0              0             0  "
            ],
            "text/html": [
              "\n",
              "  <div id=\"df-0b9d1786-ef2d-4a70-9844-dc182e2228c5\" class=\"colab-df-container\">\n",
              "    <div>\n",
              "<style scoped>\n",
              "    .dataframe tbody tr th:only-of-type {\n",
              "        vertical-align: middle;\n",
              "    }\n",
              "\n",
              "    .dataframe tbody tr th {\n",
              "        vertical-align: top;\n",
              "    }\n",
              "\n",
              "    .dataframe thead th {\n",
              "        text-align: right;\n",
              "    }\n",
              "</style>\n",
              "<table border=\"1\" class=\"dataframe\">\n",
              "  <thead>\n",
              "    <tr style=\"text-align: right;\">\n",
              "      <th></th>\n",
              "      <th>popularity</th>\n",
              "      <th>acousticness</th>\n",
              "      <th>danceability</th>\n",
              "      <th>song_duration_ms</th>\n",
              "      <th>energy</th>\n",
              "      <th>instrumentalness</th>\n",
              "      <th>key</th>\n",
              "      <th>liveness</th>\n",
              "      <th>loudness</th>\n",
              "      <th>audio_mode</th>\n",
              "      <th>speechiness</th>\n",
              "      <th>tempo</th>\n",
              "      <th>time_signature</th>\n",
              "      <th>audio_valence</th>\n",
              "    </tr>\n",
              "  </thead>\n",
              "  <tbody>\n",
              "    <tr>\n",
              "      <th>popularity</th>\n",
              "      <td>0</td>\n",
              "      <td>0</td>\n",
              "      <td>0</td>\n",
              "      <td>0</td>\n",
              "      <td>0</td>\n",
              "      <td>0</td>\n",
              "      <td>0</td>\n",
              "      <td>0</td>\n",
              "      <td>0</td>\n",
              "      <td>0</td>\n",
              "      <td>0</td>\n",
              "      <td>0</td>\n",
              "      <td>0</td>\n",
              "      <td>0</td>\n",
              "    </tr>\n",
              "    <tr>\n",
              "      <th>acousticness</th>\n",
              "      <td>0</td>\n",
              "      <td>0</td>\n",
              "      <td>0</td>\n",
              "      <td>0</td>\n",
              "      <td>-0.727525</td>\n",
              "      <td>0</td>\n",
              "      <td>0</td>\n",
              "      <td>0</td>\n",
              "      <td>-0.686973</td>\n",
              "      <td>0</td>\n",
              "      <td>0</td>\n",
              "      <td>0</td>\n",
              "      <td>0</td>\n",
              "      <td>0</td>\n",
              "    </tr>\n",
              "    <tr>\n",
              "      <th>danceability</th>\n",
              "      <td>0</td>\n",
              "      <td>0</td>\n",
              "      <td>0</td>\n",
              "      <td>0</td>\n",
              "      <td>0</td>\n",
              "      <td>0</td>\n",
              "      <td>0</td>\n",
              "      <td>0</td>\n",
              "      <td>0</td>\n",
              "      <td>0</td>\n",
              "      <td>0</td>\n",
              "      <td>0</td>\n",
              "      <td>0</td>\n",
              "      <td>0.55425</td>\n",
              "    </tr>\n",
              "    <tr>\n",
              "      <th>song_duration_ms</th>\n",
              "      <td>0</td>\n",
              "      <td>0</td>\n",
              "      <td>0</td>\n",
              "      <td>0</td>\n",
              "      <td>0</td>\n",
              "      <td>0</td>\n",
              "      <td>0</td>\n",
              "      <td>0</td>\n",
              "      <td>0</td>\n",
              "      <td>0</td>\n",
              "      <td>0</td>\n",
              "      <td>0</td>\n",
              "      <td>0</td>\n",
              "      <td>0</td>\n",
              "    </tr>\n",
              "    <tr>\n",
              "      <th>energy</th>\n",
              "      <td>0</td>\n",
              "      <td>-0.727525</td>\n",
              "      <td>0</td>\n",
              "      <td>0</td>\n",
              "      <td>0</td>\n",
              "      <td>0</td>\n",
              "      <td>0</td>\n",
              "      <td>0</td>\n",
              "      <td>0.816218</td>\n",
              "      <td>0</td>\n",
              "      <td>0</td>\n",
              "      <td>0</td>\n",
              "      <td>0</td>\n",
              "      <td>0</td>\n",
              "    </tr>\n",
              "    <tr>\n",
              "      <th>instrumentalness</th>\n",
              "      <td>0</td>\n",
              "      <td>0</td>\n",
              "      <td>0</td>\n",
              "      <td>0</td>\n",
              "      <td>0</td>\n",
              "      <td>0</td>\n",
              "      <td>0</td>\n",
              "      <td>0</td>\n",
              "      <td>-0.504432</td>\n",
              "      <td>0</td>\n",
              "      <td>0</td>\n",
              "      <td>0</td>\n",
              "      <td>0</td>\n",
              "      <td>0</td>\n",
              "    </tr>\n",
              "    <tr>\n",
              "      <th>key</th>\n",
              "      <td>0</td>\n",
              "      <td>0</td>\n",
              "      <td>0</td>\n",
              "      <td>0</td>\n",
              "      <td>0</td>\n",
              "      <td>0</td>\n",
              "      <td>0</td>\n",
              "      <td>0</td>\n",
              "      <td>0</td>\n",
              "      <td>0</td>\n",
              "      <td>0</td>\n",
              "      <td>0</td>\n",
              "      <td>0</td>\n",
              "      <td>0</td>\n",
              "    </tr>\n",
              "    <tr>\n",
              "      <th>liveness</th>\n",
              "      <td>0</td>\n",
              "      <td>0</td>\n",
              "      <td>0</td>\n",
              "      <td>0</td>\n",
              "      <td>0</td>\n",
              "      <td>0</td>\n",
              "      <td>0</td>\n",
              "      <td>0</td>\n",
              "      <td>0</td>\n",
              "      <td>0</td>\n",
              "      <td>0.523957</td>\n",
              "      <td>0</td>\n",
              "      <td>0</td>\n",
              "      <td>0</td>\n",
              "    </tr>\n",
              "    <tr>\n",
              "      <th>loudness</th>\n",
              "      <td>0</td>\n",
              "      <td>-0.686973</td>\n",
              "      <td>0</td>\n",
              "      <td>0</td>\n",
              "      <td>0.816218</td>\n",
              "      <td>-0.504432</td>\n",
              "      <td>0</td>\n",
              "      <td>0</td>\n",
              "      <td>0</td>\n",
              "      <td>0</td>\n",
              "      <td>0</td>\n",
              "      <td>0</td>\n",
              "      <td>0</td>\n",
              "      <td>0</td>\n",
              "    </tr>\n",
              "    <tr>\n",
              "      <th>audio_mode</th>\n",
              "      <td>0</td>\n",
              "      <td>0</td>\n",
              "      <td>0</td>\n",
              "      <td>0</td>\n",
              "      <td>0</td>\n",
              "      <td>0</td>\n",
              "      <td>0</td>\n",
              "      <td>0</td>\n",
              "      <td>0</td>\n",
              "      <td>0</td>\n",
              "      <td>0</td>\n",
              "      <td>0</td>\n",
              "      <td>0</td>\n",
              "      <td>0</td>\n",
              "    </tr>\n",
              "    <tr>\n",
              "      <th>speechiness</th>\n",
              "      <td>0</td>\n",
              "      <td>0</td>\n",
              "      <td>0</td>\n",
              "      <td>0</td>\n",
              "      <td>0</td>\n",
              "      <td>0</td>\n",
              "      <td>0</td>\n",
              "      <td>0.523957</td>\n",
              "      <td>0</td>\n",
              "      <td>0</td>\n",
              "      <td>0</td>\n",
              "      <td>0</td>\n",
              "      <td>0</td>\n",
              "      <td>0</td>\n",
              "    </tr>\n",
              "    <tr>\n",
              "      <th>tempo</th>\n",
              "      <td>0</td>\n",
              "      <td>0</td>\n",
              "      <td>0</td>\n",
              "      <td>0</td>\n",
              "      <td>0</td>\n",
              "      <td>0</td>\n",
              "      <td>0</td>\n",
              "      <td>0</td>\n",
              "      <td>0</td>\n",
              "      <td>0</td>\n",
              "      <td>0</td>\n",
              "      <td>0</td>\n",
              "      <td>0</td>\n",
              "      <td>0</td>\n",
              "    </tr>\n",
              "    <tr>\n",
              "      <th>time_signature</th>\n",
              "      <td>0</td>\n",
              "      <td>0</td>\n",
              "      <td>0</td>\n",
              "      <td>0</td>\n",
              "      <td>0</td>\n",
              "      <td>0</td>\n",
              "      <td>0</td>\n",
              "      <td>0</td>\n",
              "      <td>0</td>\n",
              "      <td>0</td>\n",
              "      <td>0</td>\n",
              "      <td>0</td>\n",
              "      <td>0</td>\n",
              "      <td>0</td>\n",
              "    </tr>\n",
              "    <tr>\n",
              "      <th>audio_valence</th>\n",
              "      <td>0</td>\n",
              "      <td>0</td>\n",
              "      <td>0.55425</td>\n",
              "      <td>0</td>\n",
              "      <td>0</td>\n",
              "      <td>0</td>\n",
              "      <td>0</td>\n",
              "      <td>0</td>\n",
              "      <td>0</td>\n",
              "      <td>0</td>\n",
              "      <td>0</td>\n",
              "      <td>0</td>\n",
              "      <td>0</td>\n",
              "      <td>0</td>\n",
              "    </tr>\n",
              "  </tbody>\n",
              "</table>\n",
              "</div>\n",
              "    <div class=\"colab-df-buttons\">\n",
              "\n",
              "  <div class=\"colab-df-container\">\n",
              "    <button class=\"colab-df-convert\" onclick=\"convertToInteractive('df-0b9d1786-ef2d-4a70-9844-dc182e2228c5')\"\n",
              "            title=\"Convert this dataframe to an interactive table.\"\n",
              "            style=\"display:none;\">\n",
              "\n",
              "  <svg xmlns=\"http://www.w3.org/2000/svg\" height=\"24px\" viewBox=\"0 -960 960 960\">\n",
              "    <path d=\"M120-120v-720h720v720H120Zm60-500h600v-160H180v160Zm220 220h160v-160H400v160Zm0 220h160v-160H400v160ZM180-400h160v-160H180v160Zm440 0h160v-160H620v160ZM180-180h160v-160H180v160Zm440 0h160v-160H620v160Z\"/>\n",
              "  </svg>\n",
              "    </button>\n",
              "\n",
              "  <style>\n",
              "    .colab-df-container {\n",
              "      display:flex;\n",
              "      gap: 12px;\n",
              "    }\n",
              "\n",
              "    .colab-df-convert {\n",
              "      background-color: #E8F0FE;\n",
              "      border: none;\n",
              "      border-radius: 50%;\n",
              "      cursor: pointer;\n",
              "      display: none;\n",
              "      fill: #1967D2;\n",
              "      height: 32px;\n",
              "      padding: 0 0 0 0;\n",
              "      width: 32px;\n",
              "    }\n",
              "\n",
              "    .colab-df-convert:hover {\n",
              "      background-color: #E2EBFA;\n",
              "      box-shadow: 0px 1px 2px rgba(60, 64, 67, 0.3), 0px 1px 3px 1px rgba(60, 64, 67, 0.15);\n",
              "      fill: #174EA6;\n",
              "    }\n",
              "\n",
              "    .colab-df-buttons div {\n",
              "      margin-bottom: 4px;\n",
              "    }\n",
              "\n",
              "    [theme=dark] .colab-df-convert {\n",
              "      background-color: #3B4455;\n",
              "      fill: #D2E3FC;\n",
              "    }\n",
              "\n",
              "    [theme=dark] .colab-df-convert:hover {\n",
              "      background-color: #434B5C;\n",
              "      box-shadow: 0px 1px 3px 1px rgba(0, 0, 0, 0.15);\n",
              "      filter: drop-shadow(0px 1px 2px rgba(0, 0, 0, 0.3));\n",
              "      fill: #FFFFFF;\n",
              "    }\n",
              "  </style>\n",
              "\n",
              "    <script>\n",
              "      const buttonEl =\n",
              "        document.querySelector('#df-0b9d1786-ef2d-4a70-9844-dc182e2228c5 button.colab-df-convert');\n",
              "      buttonEl.style.display =\n",
              "        google.colab.kernel.accessAllowed ? 'block' : 'none';\n",
              "\n",
              "      async function convertToInteractive(key) {\n",
              "        const element = document.querySelector('#df-0b9d1786-ef2d-4a70-9844-dc182e2228c5');\n",
              "        const dataTable =\n",
              "          await google.colab.kernel.invokeFunction('convertToInteractive',\n",
              "                                                    [key], {});\n",
              "        if (!dataTable) return;\n",
              "\n",
              "        const docLinkHtml = 'Like what you see? Visit the ' +\n",
              "          '<a target=\"_blank\" href=https://colab.research.google.com/notebooks/data_table.ipynb>data table notebook</a>'\n",
              "          + ' to learn more about interactive tables.';\n",
              "        element.innerHTML = '';\n",
              "        dataTable['output_type'] = 'display_data';\n",
              "        await google.colab.output.renderOutput(dataTable, element);\n",
              "        const docLink = document.createElement('div');\n",
              "        docLink.innerHTML = docLinkHtml;\n",
              "        element.appendChild(docLink);\n",
              "      }\n",
              "    </script>\n",
              "  </div>\n",
              "\n",
              "\n",
              "<div id=\"df-e103b1a6-66ea-40df-b0bf-cea05a3d2ad6\">\n",
              "  <button class=\"colab-df-quickchart\" onclick=\"quickchart('df-e103b1a6-66ea-40df-b0bf-cea05a3d2ad6')\"\n",
              "            title=\"Suggest charts\"\n",
              "            style=\"display:none;\">\n",
              "\n",
              "<svg xmlns=\"http://www.w3.org/2000/svg\" height=\"24px\"viewBox=\"0 0 24 24\"\n",
              "     width=\"24px\">\n",
              "    <g>\n",
              "        <path d=\"M19 3H5c-1.1 0-2 .9-2 2v14c0 1.1.9 2 2 2h14c1.1 0 2-.9 2-2V5c0-1.1-.9-2-2-2zM9 17H7v-7h2v7zm4 0h-2V7h2v10zm4 0h-2v-4h2v4z\"/>\n",
              "    </g>\n",
              "</svg>\n",
              "  </button>\n",
              "\n",
              "<style>\n",
              "  .colab-df-quickchart {\n",
              "      --bg-color: #E8F0FE;\n",
              "      --fill-color: #1967D2;\n",
              "      --hover-bg-color: #E2EBFA;\n",
              "      --hover-fill-color: #174EA6;\n",
              "      --disabled-fill-color: #AAA;\n",
              "      --disabled-bg-color: #DDD;\n",
              "  }\n",
              "\n",
              "  [theme=dark] .colab-df-quickchart {\n",
              "      --bg-color: #3B4455;\n",
              "      --fill-color: #D2E3FC;\n",
              "      --hover-bg-color: #434B5C;\n",
              "      --hover-fill-color: #FFFFFF;\n",
              "      --disabled-bg-color: #3B4455;\n",
              "      --disabled-fill-color: #666;\n",
              "  }\n",
              "\n",
              "  .colab-df-quickchart {\n",
              "    background-color: var(--bg-color);\n",
              "    border: none;\n",
              "    border-radius: 50%;\n",
              "    cursor: pointer;\n",
              "    display: none;\n",
              "    fill: var(--fill-color);\n",
              "    height: 32px;\n",
              "    padding: 0;\n",
              "    width: 32px;\n",
              "  }\n",
              "\n",
              "  .colab-df-quickchart:hover {\n",
              "    background-color: var(--hover-bg-color);\n",
              "    box-shadow: 0 1px 2px rgba(60, 64, 67, 0.3), 0 1px 3px 1px rgba(60, 64, 67, 0.15);\n",
              "    fill: var(--button-hover-fill-color);\n",
              "  }\n",
              "\n",
              "  .colab-df-quickchart-complete:disabled,\n",
              "  .colab-df-quickchart-complete:disabled:hover {\n",
              "    background-color: var(--disabled-bg-color);\n",
              "    fill: var(--disabled-fill-color);\n",
              "    box-shadow: none;\n",
              "  }\n",
              "\n",
              "  .colab-df-spinner {\n",
              "    border: 2px solid var(--fill-color);\n",
              "    border-color: transparent;\n",
              "    border-bottom-color: var(--fill-color);\n",
              "    animation:\n",
              "      spin 1s steps(1) infinite;\n",
              "  }\n",
              "\n",
              "  @keyframes spin {\n",
              "    0% {\n",
              "      border-color: transparent;\n",
              "      border-bottom-color: var(--fill-color);\n",
              "      border-left-color: var(--fill-color);\n",
              "    }\n",
              "    20% {\n",
              "      border-color: transparent;\n",
              "      border-left-color: var(--fill-color);\n",
              "      border-top-color: var(--fill-color);\n",
              "    }\n",
              "    30% {\n",
              "      border-color: transparent;\n",
              "      border-left-color: var(--fill-color);\n",
              "      border-top-color: var(--fill-color);\n",
              "      border-right-color: var(--fill-color);\n",
              "    }\n",
              "    40% {\n",
              "      border-color: transparent;\n",
              "      border-right-color: var(--fill-color);\n",
              "      border-top-color: var(--fill-color);\n",
              "    }\n",
              "    60% {\n",
              "      border-color: transparent;\n",
              "      border-right-color: var(--fill-color);\n",
              "    }\n",
              "    80% {\n",
              "      border-color: transparent;\n",
              "      border-right-color: var(--fill-color);\n",
              "      border-bottom-color: var(--fill-color);\n",
              "    }\n",
              "    90% {\n",
              "      border-color: transparent;\n",
              "      border-bottom-color: var(--fill-color);\n",
              "    }\n",
              "  }\n",
              "</style>\n",
              "\n",
              "  <script>\n",
              "    async function quickchart(key) {\n",
              "      const quickchartButtonEl =\n",
              "        document.querySelector('#' + key + ' button');\n",
              "      quickchartButtonEl.disabled = true;  // To prevent multiple clicks.\n",
              "      quickchartButtonEl.classList.add('colab-df-spinner');\n",
              "      try {\n",
              "        const charts = await google.colab.kernel.invokeFunction(\n",
              "            'suggestCharts', [key], {});\n",
              "      } catch (error) {\n",
              "        console.error('Error during call to suggestCharts:', error);\n",
              "      }\n",
              "      quickchartButtonEl.classList.remove('colab-df-spinner');\n",
              "      quickchartButtonEl.classList.add('colab-df-quickchart-complete');\n",
              "    }\n",
              "    (() => {\n",
              "      let quickchartButtonEl =\n",
              "        document.querySelector('#df-e103b1a6-66ea-40df-b0bf-cea05a3d2ad6 button');\n",
              "      quickchartButtonEl.style.display =\n",
              "        google.colab.kernel.accessAllowed ? 'block' : 'none';\n",
              "    })();\n",
              "  </script>\n",
              "</div>\n",
              "    </div>\n",
              "  </div>\n"
            ]
          },
          "metadata": {},
          "execution_count": 14
        }
      ],
      "source": [
        "visualcorr=pd.DataFrame(index=train.corr().index,columns=train.corr().columns)\n",
        "for i in train.corr().columns:\n",
        "  for j in train.corr().index:\n",
        "    if abs(train.corr()[i][j])>0.5 and abs(train.corr()[i][j])!=1:  #seleccionamos solo las que sean mayor que 0.5 y diferente a 1\n",
        "      visualcorr[i][j]=train.corr()[i][j]   # se devuelve su valor\n",
        "    else:\n",
        "      visualcorr[i][j]=0  # las que no lo cumplen son 0\n",
        "visualcorr"
      ]
    },
    {
      "cell_type": "markdown",
      "metadata": {
        "id": "TjB1H-_IuVlX"
      },
      "source": [
        "Vemos que ninguna tiene mayor relacion mayor que 0.5 con popularity. Hemos resaltado aquellas que tienen una correlacion mayor que 0.5 para resumirlo, pero como el objetivo principal es conseguir una visualizacion mejor respecto a la popularidad de las canciones, no vamos a profundizar mas en este analisis."
      ]
    },
    {
      "cell_type": "markdown",
      "metadata": {
        "id": "75dO8VH6uVlX"
      },
      "source": [
        "Comprobamos puntos atípicos"
      ]
    },
    {
      "cell_type": "code",
      "execution_count": 15,
      "metadata": {
        "id": "Lr0547UFuVlX",
        "outputId": "081a03ea-90c9-4597-c247-a4e850d88473",
        "colab": {
          "base_uri": "https://localhost:8080/",
          "height": 387
        }
      },
      "outputs": [
        {
          "output_type": "execute_result",
          "data": {
            "text/plain": [
              "<Axes: >"
            ]
          },
          "metadata": {},
          "execution_count": 15
        },
        {
          "output_type": "display_data",
          "data": {
            "text/plain": [
              "<Figure size 3000x1500 with 1 Axes>"
            ],
            "image/png": "[encoded data removed]"
          },
          "metadata": {}
        }
      ],
      "source": [
        "from sklearn import preprocessing\n",
        "from sklearn.preprocessing import MinMaxScaler\n",
        "import seaborn as sns\n",
        "\n",
        "# Normalizamos el dataset para tener todo a escala para una mejor visualización\n",
        "\n",
        "scaler = MinMaxScaler()\n",
        "data_train_n = scaler.fit_transform(train) # Normalizamos los datos para que sean más comparables\n",
        "data_train_n = pd.DataFrame(data_train_n, columns = train.columns, index = train.index)\n",
        "\n",
        "# Visualización de los valores atípicos mediante el diagrama de cajas y bigotes de todas las columnas\n",
        "\n",
        "sns.set(rc={'figure.figsize':(30,15)})\n",
        "sns.boxplot(data = data_train_n, orient = 'h')"
      ]
    },
    {
      "cell_type": "markdown",
      "metadata": {
        "id": "1QXXjaDjuVlX"
      },
      "source": [
        "Los puntos atípicos son tantos que si los borramos podríamos tener overfitting."
      ]
    },
    {
      "cell_type": "markdown",
      "metadata": {
        "id": "qSleDc5cuVlY"
      },
      "source": [
        "Creamos x e y train y los dividimos en conjunto de entrenamiento y test, ya que estos son los datos que tienen valor de popularity y con los que vamos a entrenar y evaluar nuestros modelos."
      ]
    },
    {
      "cell_type": "code",
      "execution_count": 16,
      "metadata": {
        "id": "_7zKWmLPuVlY"
      },
      "outputs": [],
      "source": [
        "# Sin normalizar y con outliers\n",
        "\n",
        "X_train = train.drop('popularity', axis = 1)\n",
        "y_train = train['popularity'].to_numpy()"
      ]
    },
    {
      "cell_type": "code",
      "source": [
        "X_train, X_test, y_train, y_test = train_test_split(X_train, y_train, test_size=0.2, random_state=42)"
      ],
      "metadata": {
        "id": "oUJdDPNkv0RZ"
      },
      "execution_count": 17,
      "outputs": []
    },
    {
      "cell_type": "markdown",
      "metadata": {
        "id": "RajZJhUFuVlY"
      },
      "source": [
        "#Métodos de predicción"
      ]
    },
    {
      "cell_type": "markdown",
      "source": [
        "Comenzamos aplicando los métodos de regresión vistos en clase."
      ],
      "metadata": {
        "id": "lzZF2z-Hypc1"
      }
    },
    {
      "cell_type": "markdown",
      "metadata": {
        "id": "s1DJmFOnuVlY"
      },
      "source": [
        "##Regresión Lineal"
      ]
    },
    {
      "cell_type": "markdown",
      "source": [
        "Utilizamos n_jobs=-1 para utilizar todo los procesadores y acelerar el proceso, aunque se podria no poner."
      ],
      "metadata": {
        "id": "kq3xT_1zEOzy"
      }
    },
    {
      "cell_type": "code",
      "source": [
        "# Creamos y entrenamos un modelo de regresión lineal simple utilizando el conjunto de entrenamiento (X_train, y_train)\n",
        "Simple_model = LinearRegression(n_jobs=-1).fit(X_train, y_train)\n",
        "\n",
        "r2_r1 = r2_score(y_test, Simple_model.predict(X_test))\n",
        "mae_r1 = mean_absolute_error(y_test, Simple_model.predict(X_test))\n",
        "print(r2_r1)\n",
        "print(mae_r1)"
      ],
      "metadata": {
        "colab": {
          "base_uri": "https://localhost:8080/"
        },
        "id": "41VMdDqzvTQs",
        "outputId": "86eb618e-eac6-43e3-b83a-6fda7328a342"
      },
      "execution_count": 18,
      "outputs": [
        {
          "output_type": "stream",
          "name": "stdout",
          "text": [
            "0.21943360085854313\n",
            "12.774210444508299\n"
          ]
        }
      ]
    },
    {
      "cell_type": "markdown",
      "source": [
        "Vemos que el resultado no es bueno. Aun asi vamos a representar la relacion de los coeficientes del modelo con nuestras caracteristicas y asi ver la correlacion con popularity:"
      ],
      "metadata": {
        "id": "RbKcpIhgxKYH"
      }
    },
    {
      "cell_type": "code",
      "source": [
        "pd.DataFrame(data=np.expand_dims(Simple_model.coef_, axis=0), columns=X_train.columns)"
      ],
      "metadata": {
        "colab": {
          "base_uri": "https://localhost:8080/",
          "height": 101
        },
        "id": "prw839no4KA3",
        "outputId": "85ce01bf-97f0-44e2-cf22-d0bbf8941862"
      },
      "execution_count": 19,
      "outputs": [
        {
          "output_type": "execute_result",
          "data": {
            "text/plain": [
              "   acousticness  danceability  song_duration_ms    energy  instrumentalness  \\\n",
              "0    -11.505747     17.597274          0.000001 -4.424874         -4.696541   \n",
              "\n",
              "        key  liveness  loudness  audio_mode  speechiness     tempo  \\\n",
              "0  0.008775 -9.916794  0.612401    1.610044    -7.991624 -0.001311   \n",
              "\n",
              "   time_signature  audio_valence  \n",
              "0         1.32866     -13.850362  "
            ],
            "text/html": [
              "\n",
              "  <div id=\"df-182a37ef-4546-48e2-b806-f144191b1ea8\" class=\"colab-df-container\">\n",
              "    <div>\n",
              "<style scoped>\n",
              "    .dataframe tbody tr th:only-of-type {\n",
              "        vertical-align: middle;\n",
              "    }\n",
              "\n",
              "    .dataframe tbody tr th {\n",
              "        vertical-align: top;\n",
              "    }\n",
              "\n",
              "    .dataframe thead th {\n",
              "        text-align: right;\n",
              "    }\n",
              "</style>\n",
              "<table border=\"1\" class=\"dataframe\">\n",
              "  <thead>\n",
              "    <tr style=\"text-align: right;\">\n",
              "      <th></th>\n",
              "      <th>acousticness</th>\n",
              "      <th>danceability</th>\n",
              "      <th>song_duration_ms</th>\n",
              "      <th>energy</th>\n",
              "      <th>instrumentalness</th>\n",
              "      <th>key</th>\n",
              "      <th>liveness</th>\n",
              "      <th>loudness</th>\n",
              "      <th>audio_mode</th>\n",
              "      <th>speechiness</th>\n",
              "      <th>tempo</th>\n",
              "      <th>time_signature</th>\n",
              "      <th>audio_valence</th>\n",
              "    </tr>\n",
              "  </thead>\n",
              "  <tbody>\n",
              "    <tr>\n",
              "      <th>0</th>\n",
              "      <td>-11.505747</td>\n",
              "      <td>17.597274</td>\n",
              "      <td>0.000001</td>\n",
              "      <td>-4.424874</td>\n",
              "      <td>-4.696541</td>\n",
              "      <td>0.008775</td>\n",
              "      <td>-9.916794</td>\n",
              "      <td>0.612401</td>\n",
              "      <td>1.610044</td>\n",
              "      <td>-7.991624</td>\n",
              "      <td>-0.001311</td>\n",
              "      <td>1.32866</td>\n",
              "      <td>-13.850362</td>\n",
              "    </tr>\n",
              "  </tbody>\n",
              "</table>\n",
              "</div>\n",
              "    <div class=\"colab-df-buttons\">\n",
              "\n",
              "  <div class=\"colab-df-container\">\n",
              "    <button class=\"colab-df-convert\" onclick=\"convertToInteractive('df-182a37ef-4546-48e2-b806-f144191b1ea8')\"\n",
              "            title=\"Convert this dataframe to an interactive table.\"\n",
              "            style=\"display:none;\">\n",
              "\n",
              "  <svg xmlns=\"http://www.w3.org/2000/svg\" height=\"24px\" viewBox=\"0 -960 960 960\">\n",
              "    <path d=\"M120-120v-720h720v720H120Zm60-500h600v-160H180v160Zm220 220h160v-160H400v160Zm0 220h160v-160H400v160ZM180-400h160v-160H180v160Zm440 0h160v-160H620v160ZM180-180h160v-160H180v160Zm440 0h160v-160H620v160Z\"/>\n",
              "  </svg>\n",
              "    </button>\n",
              "\n",
              "  <style>\n",
              "    .colab-df-container {\n",
              "      display:flex;\n",
              "      gap: 12px;\n",
              "    }\n",
              "\n",
              "    .colab-df-convert {\n",
              "      background-color: #E8F0FE;\n",
              "      border: none;\n",
              "      border-radius: 50%;\n",
              "      cursor: pointer;\n",
              "      display: none;\n",
              "      fill: #1967D2;\n",
              "      height: 32px;\n",
              "      padding: 0 0 0 0;\n",
              "      width: 32px;\n",
              "    }\n",
              "\n",
              "    .colab-df-convert:hover {\n",
              "      background-color: #E2EBFA;\n",
              "      box-shadow: 0px 1px 2px rgba(60, 64, 67, 0.3), 0px 1px 3px 1px rgba(60, 64, 67, 0.15);\n",
              "      fill: #174EA6;\n",
              "    }\n",
              "\n",
              "    .colab-df-buttons div {\n",
              "      margin-bottom: 4px;\n",
              "    }\n",
              "\n",
              "    [theme=dark] .colab-df-convert {\n",
              "      background-color: #3B4455;\n",
              "      fill: #D2E3FC;\n",
              "    }\n",
              "\n",
              "    [theme=dark] .colab-df-convert:hover {\n",
              "      background-color: #434B5C;\n",
              "      box-shadow: 0px 1px 3px 1px rgba(0, 0, 0, 0.15);\n",
              "      filter: drop-shadow(0px 1px 2px rgba(0, 0, 0, 0.3));\n",
              "      fill: #FFFFFF;\n",
              "    }\n",
              "  </style>\n",
              "\n",
              "    <script>\n",
              "      const buttonEl =\n",
              "        document.querySelector('#df-182a37ef-4546-48e2-b806-f144191b1ea8 button.colab-df-convert');\n",
              "      buttonEl.style.display =\n",
              "        google.colab.kernel.accessAllowed ? 'block' : 'none';\n",
              "\n",
              "      async function convertToInteractive(key) {\n",
              "        const element = document.querySelector('#df-182a37ef-4546-48e2-b806-f144191b1ea8');\n",
              "        const dataTable =\n",
              "          await google.colab.kernel.invokeFunction('convertToInteractive',\n",
              "                                                    [key], {});\n",
              "        if (!dataTable) return;\n",
              "\n",
              "        const docLinkHtml = 'Like what you see? Visit the ' +\n",
              "          '<a target=\"_blank\" href=https://colab.research.google.com/notebooks/data_table.ipynb>data table notebook</a>'\n",
              "          + ' to learn more about interactive tables.';\n",
              "        element.innerHTML = '';\n",
              "        dataTable['output_type'] = 'display_data';\n",
              "        await google.colab.output.renderOutput(dataTable, element);\n",
              "        const docLink = document.createElement('div');\n",
              "        docLink.innerHTML = docLinkHtml;\n",
              "        element.appendChild(docLink);\n",
              "      }\n",
              "    </script>\n",
              "  </div>\n",
              "\n",
              "    </div>\n",
              "  </div>\n"
            ]
          },
          "metadata": {},
          "execution_count": 19
        }
      ]
    },
    {
      "cell_type": "code",
      "source": [
        "column_names = X_train.columns\n",
        "column_coef = pd.DataFrame({\"columns\" : column_names,\n",
        "             \"coef_\": Simple_model.coef_})\n",
        "\n",
        "plt.figure(figsize = (30,10))\n",
        "ax = sns.barplot(data = column_coef, x = \"columns\", y = \"coef_\")\n",
        "\n",
        "plt.bar_label(ax.containers[0],size=20,label_type=\"center\")\n",
        "\n",
        "plt.xticks(size = 20)\n",
        "plt.yticks(size = 20)\n",
        "plt.xlabel(\"Columns\",size = 20)\n",
        "plt.ylabel(\"Coefficients\",size = 20)\n",
        "plt.title(\"Coeficientes de las variables independientes\")\n",
        "plt.show()"
      ],
      "metadata": {
        "colab": {
          "base_uri": "https://localhost:8080/",
          "height": 281
        },
        "id": "ejjZ_BTB5ZY6",
        "outputId": "3e664967-e023-4c2d-ffa8-e14e69e60e8d"
      },
      "execution_count": 20,
      "outputs": [
        {
          "output_type": "display_data",
          "data": {
            "text/plain": [
              "<Figure size 3000x1000 with 1 Axes>"
            ],
            "image/png": "[encoded data removed]"
          },
          "metadata": {}
        }
      ]
    },
    {
      "cell_type": "markdown",
      "source": [
        "Se puede apreciar que danceability tiene un buen grado de correlacion, lo cual se podria decir que a mayor danceability mayor popularidad. Al contrario pasa con acousticness, liveness, speechiness y audio_valence, que tienen una mayor correlacion inversa.\n",
        "Ademas podemos observar que tanto song_duration, key y tempo apenas muestran aportacion a la popularidad, algo que tiene sentido pensar en un primer momento."
      ],
      "metadata": {
        "id": "TYyI2BmM5at1"
      }
    },
    {
      "cell_type": "markdown",
      "source": [
        "A paritr de ahora utilizaremos para los siguientes modelos un grid search con un espacio de busqueda de diferentes valores para sus parametros y asi obtener el mejor resultado mediante la validacion cruzada del valor de r2 score, además de calcular su mae para tener ambas medidas."
      ],
      "metadata": {
        "id": "xSeEzorivjLK"
      }
    },
    {
      "cell_type": "markdown",
      "metadata": {
        "id": "WZMHy4p-uVlY"
      },
      "source": [
        "Lasso"
      ]
    },
    {
      "cell_type": "code",
      "source": [
        "#Posibles valores de los parametros que se tendran en cuenta\n",
        "parameters = {\"alpha\":np.arange(0.01,2,0.05)}\n",
        "\n",
        "#Definimos el Grid Search\n",
        "ComplexLModel = GridSearchCV(Lasso(), parameters, scoring = \"r2\", n_jobs=-1, verbose=0)\n",
        "\n",
        "#Entrenamos y devolvemos el mejor valor para los parametros\n",
        "ComplexLModel.fit(X_train,y_train)\n",
        "ComplexLModel.best_params_"
      ],
      "metadata": {
        "colab": {
          "base_uri": "https://localhost:8080/"
        },
        "id": "-JuF3CLh0wk9",
        "outputId": "1692c89c-7931-4ee9-9a19-3b3c27a0194f"
      },
      "execution_count": 21,
      "outputs": [
        {
          "output_type": "execute_result",
          "data": {
            "text/plain": [
              "{'alpha': 0.01}"
            ]
          },
          "metadata": {},
          "execution_count": 21
        }
      ]
    },
    {
      "cell_type": "code",
      "source": [
        "#Utilizamos como parametro el valor que nos ha devuelto el modelo como el mejor y entrenamos el modelo con este valor\n",
        "ComplexLModel = Lasso(alpha=0.01)\n",
        "\n",
        "ComplexLModel.fit(X_train, y_train)\n",
        "\n",
        "#Calculamos tanto el r2 score como el mae\n",
        "r2_r2 = r2_score(y_test, ComplexLModel.predict(X_test))\n",
        "mae_r2 = mean_absolute_error(y_test, ComplexLModel.predict(X_test))\n",
        "print(r2_r2)\n",
        "print(mae_r2)"
      ],
      "metadata": {
        "colab": {
          "base_uri": "https://localhost:8080/"
        },
        "id": "I4lZAEq60wuU",
        "outputId": "1ea4ec6d-22c5-40d5-aef7-2bf2d5a1820f"
      },
      "execution_count": 22,
      "outputs": [
        {
          "output_type": "stream",
          "name": "stdout",
          "text": [
            "0.21958086328161186\n",
            "12.77748717448625\n"
          ]
        }
      ]
    },
    {
      "cell_type": "markdown",
      "source": [
        "Sigue siendo mal resultado y apenas se mejora."
      ],
      "metadata": {
        "id": "-J7fSp07xPHB"
      }
    },
    {
      "cell_type": "markdown",
      "metadata": {
        "id": "PS6s4X-KuVlZ"
      },
      "source": [
        "Ridge"
      ]
    },
    {
      "cell_type": "code",
      "source": [
        "#Posibles valores de los parametros que se tendran en cuenta\n",
        "parameters = {\"alpha\":np.arange(0.25,10,0.05)}\n",
        "\n",
        "#Definimos el Grid Search\n",
        "ComplexLModel = GridSearchCV(Ridge(), parameters, scoring = \"r2\", n_jobs=-1, verbose=0)\n",
        "\n",
        "#Entrenamos y devolvemos el mejor valor para los parametros\n",
        "ComplexLModel.fit(X_train,y_train)\n",
        "ComplexLModel.best_params_"
      ],
      "metadata": {
        "colab": {
          "base_uri": "https://localhost:8080/"
        },
        "id": "QxZYoIWJ0xLe",
        "outputId": "65317898-3e44-41af-f92d-b93d9d2baef4"
      },
      "execution_count": 23,
      "outputs": [
        {
          "output_type": "execute_result",
          "data": {
            "text/plain": [
              "{'alpha': 1.5999999999999996}"
            ]
          },
          "metadata": {},
          "execution_count": 23
        }
      ]
    },
    {
      "cell_type": "code",
      "source": [
        "#Utilizamos como parametro el valor que nos ha devuelto el modelo como el mejor y entrenamos el modelo con este valor\n",
        "ComplexLModel = Ridge(alpha=1.59)\n",
        "\n",
        "ComplexLModel.fit(X_train, y_train)\n",
        "\n",
        "#Calculamos tanto el r2 score como el mae\n",
        "r2_r2 = r2_score(y_test, ComplexLModel.predict(X_test))\n",
        "mae_r2 = mean_absolute_error(y_test, ComplexLModel.predict(X_test))\n",
        "print(r2_r2)\n",
        "print(mae_r2)"
      ],
      "metadata": {
        "colab": {
          "base_uri": "https://localhost:8080/"
        },
        "id": "ksnsL6Da0xOv",
        "outputId": "b4178d64-cc3b-4ba4-e027-9360c3348e01"
      },
      "execution_count": 24,
      "outputs": [
        {
          "output_type": "stream",
          "name": "stdout",
          "text": [
            "0.21945873190025023\n",
            "12.774332489492068\n"
          ]
        }
      ]
    },
    {
      "cell_type": "markdown",
      "source": [
        "No mejora. Hemos intentado cambiar el rango de los distintos valores que puede utilizar el grid search y esto ha sido lo que mejor resultado ha dado, aunque siga sin mejorar."
      ],
      "metadata": {
        "id": "Fk0fv-6ExRZs"
      }
    },
    {
      "cell_type": "markdown",
      "metadata": {
        "id": "t7TwIdBduVlZ"
      },
      "source": [
        "ElasticNet"
      ]
    },
    {
      "cell_type": "code",
      "source": [
        "#Posibles valores de los parametros que se tendran en cuenta\n",
        "parameters = {\"alpha\":np.arange(0.25,10,0.5), \"l1_ratio\": np.arange(0,1.05,0.05)}\n",
        "\n",
        "#Definimos el Grid Search\n",
        "ComplexLModel = GridSearchCV(ElasticNet(), parameters, scoring = \"r2\", n_jobs=-1, verbose=0)\n",
        "\n",
        "#Entrenamos y devolvemos el mejor valor para los parametros\n",
        "ComplexLModel.fit(X_train,y_train)\n",
        "ComplexLModel.best_params_"
      ],
      "metadata": {
        "colab": {
          "base_uri": "https://localhost:8080/"
        },
        "id": "xJz4BOKjxvr8",
        "outputId": "0ea61094-fbba-4132-c9f1-7fe7e3aa50eb"
      },
      "execution_count": 25,
      "outputs": [
        {
          "output_type": "execute_result",
          "data": {
            "text/plain": [
              "{'alpha': 0.25, 'l1_ratio': 1.0}"
            ]
          },
          "metadata": {},
          "execution_count": 25
        }
      ]
    },
    {
      "cell_type": "code",
      "source": [
        "#Utilizamos como parametro el valor que nos ha devuelto el modelo como el mejor y entrenamos el modelo con este valor\n",
        "ComplexLModel = ElasticNet(alpha=0.25, l1_ratio=1)\n",
        "\n",
        "ComplexLModel.fit(X_train, y_train)\n",
        "\n",
        "#Calculamos tanto el r2 score como el mae\n",
        "r2_r2 = r2_score(y_test, ComplexLModel.predict(X_test))\n",
        "mae_r2 = mean_absolute_error(y_test, ComplexLModel.predict(X_test))\n",
        "print(r2_r2)\n",
        "print(mae_r2)"
      ],
      "metadata": {
        "colab": {
          "base_uri": "https://localhost:8080/"
        },
        "id": "ATfVELQbx7e2",
        "outputId": "30d66cbe-8103-458d-e6fc-511da8f5d046"
      },
      "execution_count": 26,
      "outputs": [
        {
          "output_type": "stream",
          "name": "stdout",
          "text": [
            "0.18931353405318196\n",
            "13.14923901756396\n"
          ]
        }
      ]
    },
    {
      "cell_type": "markdown",
      "source": [
        "Otro mal resultado, incluso peor que el anterior."
      ],
      "metadata": {
        "id": "RJV5eoRcxlCV"
      }
    },
    {
      "cell_type": "markdown",
      "metadata": {
        "id": "lsj20f1fuVla"
      },
      "source": [
        "##Regresión Polinómica"
      ]
    },
    {
      "cell_type": "code",
      "source": [
        "#Volvemos a traernos todos los datos para hacerles la transformacion\n",
        "X = train.drop('popularity', axis = 1)\n",
        "y = train['popularity'].to_numpy()"
      ],
      "metadata": {
        "id": "2_NyTquV-56r"
      },
      "execution_count": 27,
      "outputs": []
    },
    {
      "cell_type": "markdown",
      "source": [
        "Hemos intentado hacer un bucle for que probase la transformacion del polinomio con distintos grados para ver cual era el mejor, pero no hemos podido ejecutarlo en colab porque consumia toda la RAM y no se ejecutaba. Por tanto vamos a probar con los grados mas comunes, 2 y 3, y los modelos Linear Regression y ElasticNet."
      ],
      "metadata": {
        "id": "tnvfwjfs6hun"
      }
    },
    {
      "cell_type": "markdown",
      "source": [
        "Primero empezamos con Linear Regression"
      ],
      "metadata": {
        "id": "vAzQnCvzmKTX"
      }
    },
    {
      "cell_type": "markdown",
      "source": [
        "Grado del polinomio: 3"
      ],
      "metadata": {
        "id": "M--LvZYnmZe-"
      }
    },
    {
      "cell_type": "code",
      "source": [
        "Poli = PolynomialFeatures(degree=3).fit_transform(X)\n",
        "\n",
        "X_train, X_test, y_train, y_test = train_test_split(Poli, y, test_size=0.2, random_state=101)\n",
        "\n",
        "linear_p = LinearRegression()\n",
        "linear_p.fit(X_train, y_train)\n",
        "\n",
        "#Calculamos tanto el r2 score como el mae\n",
        "r2_pr1 = r2_score(y_test, linear_p.predict(X_test))\n",
        "mae_pr1 = mean_absolute_error(y_test, linear_p.predict(X_test))\n",
        "print(r2_pr1)\n",
        "print(mae_pr1)"
      ],
      "metadata": {
        "colab": {
          "base_uri": "https://localhost:8080/"
        },
        "id": "oXXedvZul_Sw",
        "outputId": "f152b4fb-b140-43b5-dd18-9572cf35936a"
      },
      "execution_count": 28,
      "outputs": [
        {
          "output_type": "stream",
          "name": "stdout",
          "text": [
            "-0.5894690275682029\n",
            "12.513838854319058\n"
          ]
        }
      ]
    },
    {
      "cell_type": "markdown",
      "source": [
        "Grado del polinomio: 2"
      ],
      "metadata": {
        "id": "2e1wXkvdmUrA"
      }
    },
    {
      "cell_type": "code",
      "source": [
        "Poli = PolynomialFeatures(degree=2).fit_transform(X)\n",
        "\n",
        "X_train, X_test, y_train, y_test = train_test_split(Poli, y, test_size=0.2, random_state=101)\n",
        "\n",
        "linear_p = LinearRegression()\n",
        "linear_p.fit(X_train, y_train)\n",
        "\n",
        "#Calculamos tanto el r2 score como el mae\n",
        "r2_pr1 = r2_score(y_test, linear_p.predict(X_test))\n",
        "mae_pr1 = mean_absolute_error(y_test, linear_p.predict(X_test))\n",
        "print(r2_pr1)\n",
        "print(mae_pr1)"
      ],
      "metadata": {
        "colab": {
          "base_uri": "https://localhost:8080/"
        },
        "id": "dLeaNdm3j5AD",
        "outputId": "1e6f2b92-4d75-4a9a-d24a-18b3b37430a8"
      },
      "execution_count": 29,
      "outputs": [
        {
          "output_type": "stream",
          "name": "stdout",
          "text": [
            "0.29912762233143164\n",
            "12.061863784900025\n"
          ]
        }
      ]
    },
    {
      "cell_type": "markdown",
      "source": [
        "Mejora bastante respecto al polinomio de grado 3."
      ],
      "metadata": {
        "id": "HYroQpyP-zas"
      }
    },
    {
      "cell_type": "markdown",
      "source": [
        "Despues probamos con ElasticNet, para el cual haremos un grid search para estimar los mejores parametros con un polinomio de grado 3."
      ],
      "metadata": {
        "id": "fgLKw27ImlvU"
      }
    },
    {
      "cell_type": "code",
      "source": [
        "Poli = PolynomialFeatures(degree=3).fit_transform(X)\n",
        "\n",
        "X_train, X_test, y_train, y_test = train_test_split(Poli, y, test_size=0.2, random_state=101)\n",
        "\n",
        "#Posibles valores de los parametros que se tendran en cuenta\n",
        "parameters = {\"alpha\":np.arange(0.25,4.25,1), \"l1_ratio\": np.arange(0,1.01,0.1)}\n",
        "\n",
        "#Definimos el Grid Search\n",
        "SimplePModel2 = GridSearchCV(ElasticNet(), parameters, scoring = \"r2\", n_jobs=-1, cv =3,  verbose=5)\n",
        "\n",
        "#entrenamos el modelo\n",
        "SimplePModel2.fit(X_train, y_train)\n",
        "\n",
        "#Devolvemos el mejor valor para los parametros\n",
        "print(SimplePModel2.best_params_)\n",
        "print(SimplePModel2.best_score_)"
      ],
      "metadata": {
        "colab": {
          "base_uri": "https://localhost:8080/"
        },
        "id": "KW2zeCaTykY7",
        "outputId": "19a190e4-4182-425e-e33f-0f9a664847e3"
      },
      "execution_count": 30,
      "outputs": [
        {
          "output_type": "stream",
          "name": "stdout",
          "text": [
            "Fitting 3 folds for each of 44 candidates, totalling 132 fits\n",
            "{'alpha': 0.25, 'l1_ratio': 0.0}\n",
            "0.26535755443959336\n"
          ]
        },
        {
          "output_type": "stream",
          "name": "stderr",
          "text": [
            "/usr/local/lib/python3.10/dist-packages/sklearn/linear_model/_coordinate_descent.py:631: ConvergenceWarning: Objective did not converge. You might want to increase the number of iterations, check the scale of the features or consider increasing regularisation. Duality gap: 2.097e+06, tolerance: 6.111e+02 Linear regression models with null weight for the l1 regularization term are more efficiently fitted using one of the solvers implemented in sklearn.linear_model.Ridge/RidgeCV instead.\n",
            "  model = cd_fast.enet_coordinate_descent(\n"
          ]
        }
      ]
    },
    {
      "cell_type": "markdown",
      "source": [
        "No es mal resultado comparado con los anteriores, aunque es peor que el anterior.\n",
        "Ahora probamos a definir un modelo con los mejores parametros que ha obtenido."
      ],
      "metadata": {
        "id": "HIUiQDKPDaKP"
      }
    },
    {
      "cell_type": "code",
      "source": [
        "Poli = PolynomialFeatures(degree=3).fit_transform(X)\n",
        "\n",
        "X_train, X_test, y_train, y_test = train_test_split(Poli, y, test_size=0.2, random_state=101)\n",
        "\n",
        "\n",
        "#Utilizamos como parametro el valor que nos ha devuelto el modelo como el mejor y entrenamos el modelo con este valor\n",
        "SimplePModel2 = ElasticNet(alpha=0.25, l1_ratio=0.0)\n",
        "SimplePModel2.fit(X_train, y_train)\n",
        "\n",
        "#Calculamos tanto el r2 score como el mae\n",
        "r2_pr1 = r2_score(y_test, SimplePModel2.predict(X_test))\n",
        "mae_pr1 = mean_absolute_error(y_test, SimplePModel2.predict(X_test))\n",
        "print(r2_pr1)\n",
        "print(mae_pr1)"
      ],
      "metadata": {
        "colab": {
          "base_uri": "https://localhost:8080/"
        },
        "id": "xZAnZnvwymLc",
        "outputId": "13af5f99-beda-49f2-8106-4c72cdce7286"
      },
      "execution_count": 35,
      "outputs": [
        {
          "output_type": "stream",
          "name": "stdout",
          "text": [
            "-0.15275145066793394\n",
            "12.116869977325893\n"
          ]
        },
        {
          "output_type": "stream",
          "name": "stderr",
          "text": [
            "/usr/local/lib/python3.10/dist-packages/sklearn/linear_model/_coordinate_descent.py:631: ConvergenceWarning: Objective did not converge. You might want to increase the number of iterations, check the scale of the features or consider increasing regularisation. Duality gap: 2.097e+06, tolerance: 6.111e+02 Linear regression models with null weight for the l1 regularization term are more efficiently fitted using one of the solvers implemented in sklearn.linear_model.Ridge/RidgeCV instead.\n",
            "  model = cd_fast.enet_coordinate_descent(\n"
          ]
        }
      ]
    },
    {
      "cell_type": "markdown",
      "source": [
        "Bastante peor que antes, veamos que pasa si utilizamos un polinomio de grado 2."
      ],
      "metadata": {
        "id": "xArLGxvtDpqP"
      }
    },
    {
      "cell_type": "code",
      "source": [
        "Poli = PolynomialFeatures(degree=2).fit_transform(X)\n",
        "\n",
        "X_train, X_test, y_train, y_test = train_test_split(Poli, y, test_size=0.2, random_state=101)\n",
        "\n",
        "#Posibles valores de los parametros que se tendran en cuenta\n",
        "parameters = {\"alpha\":np.arange(0.25,4.25,1), \"l1_ratio\": np.arange(0,1.01,0.1)}\n",
        "\n",
        "#Definimos el Grid Search\n",
        "SimplePModel2 = GridSearchCV(ElasticNet(), parameters, scoring = \"r2\", n_jobs=-1, cv =3,  verbose=5)\n",
        "\n",
        "#entrenamos el modelo\n",
        "SimplePModel2.fit(X_train, y_train)\n",
        "\n",
        "#Devolvemos el mejor valor para los parametros\n",
        "print(SimplePModel2.best_params_)\n",
        "print(SimplePModel2.best_score_)"
      ],
      "metadata": {
        "colab": {
          "base_uri": "https://localhost:8080/"
        },
        "id": "qrsGehU2GvOG",
        "outputId": "987bdb65-1465-4b5f-94cf-751473846fb7"
      },
      "execution_count": 38,
      "outputs": [
        {
          "output_type": "stream",
          "name": "stdout",
          "text": [
            "Fitting 3 folds for each of 44 candidates, totalling 132 fits\n",
            "{'alpha': 0.25, 'l1_ratio': 0.0}\n",
            "0.25516992047228465\n"
          ]
        },
        {
          "output_type": "stream",
          "name": "stderr",
          "text": [
            "/usr/local/lib/python3.10/dist-packages/sklearn/linear_model/_coordinate_descent.py:631: ConvergenceWarning: Objective did not converge. You might want to increase the number of iterations, check the scale of the features or consider increasing regularisation. Duality gap: 2.270e+06, tolerance: 6.111e+02 Linear regression models with null weight for the l1 regularization term are more efficiently fitted using one of the solvers implemented in sklearn.linear_model.Ridge/RidgeCV instead.\n",
            "  model = cd_fast.enet_coordinate_descent(\n"
          ]
        }
      ]
    },
    {
      "cell_type": "code",
      "source": [
        "Poli = PolynomialFeatures(degree=2).fit_transform(X)\n",
        "\n",
        "X_train, X_test, y_train, y_test = train_test_split(Poli, y, test_size=0.2, random_state=101)\n",
        "\n",
        "#Utilizamos como parametro el valor que nos ha devuelto el modelo como el mejor y entrenamos el modelo con este valor\n",
        "SimplePModel3 = ElasticNet(alpha=0.25, l1_ratio=0.0)\n",
        "SimplePModel3.fit(X_train, y_train)\n",
        "\n",
        "#Calculamos tanto el r2 score como el mae\n",
        "r2_pr1 = r2_score(y_test, SimplePModel3.predict(X_test))\n",
        "mae_pr1 = mean_absolute_error(y_test, SimplePModel3.predict(X_test))\n",
        "print(r2_pr1)\n",
        "print(mae_pr1)"
      ],
      "metadata": {
        "colab": {
          "base_uri": "https://localhost:8080/"
        },
        "id": "1IGa7YS5kV7f",
        "outputId": "f9cf7533-6a4b-428c-ad6b-dc3d80ff3c89"
      },
      "execution_count": 39,
      "outputs": [
        {
          "output_type": "stream",
          "name": "stdout",
          "text": [
            "0.2588790553996395\n",
            "12.496761868106828\n"
          ]
        },
        {
          "output_type": "stream",
          "name": "stderr",
          "text": [
            "/usr/local/lib/python3.10/dist-packages/sklearn/linear_model/_coordinate_descent.py:631: ConvergenceWarning: Objective did not converge. You might want to increase the number of iterations, check the scale of the features or consider increasing regularisation. Duality gap: 2.270e+06, tolerance: 6.111e+02 Linear regression models with null weight for the l1 regularization term are more efficiently fitted using one of the solvers implemented in sklearn.linear_model.Ridge/RidgeCV instead.\n",
            "  model = cd_fast.enet_coordinate_descent(\n"
          ]
        }
      ]
    },
    {
      "cell_type": "markdown",
      "source": [
        "Por tanto, podemos concluir que el mejor modelo hasta ahora es el de regresión polinómica con grado 2, aplicando una regresión lineal a la transformación."
      ],
      "metadata": {
        "id": "-C3wYOwMxqPK"
      }
    },
    {
      "cell_type": "markdown",
      "metadata": {
        "id": "gj3vF9-guVla"
      },
      "source": [
        "##SGD"
      ]
    },
    {
      "cell_type": "code",
      "source": [
        "# Definir el modelo SGDRegressor\n",
        "sgd_regressor = SGDRegressor()\n",
        "\n",
        "# Definir los parámetros a probar en el Grid Search\n",
        "param_grid = {'max_iter': np.arange(10,2000,50)}\n",
        "\n",
        "# Configurar el Grid Search con validación cruzada (cv=5)\n",
        "grid_search = GridSearchCV(estimator=sgd_regressor, param_grid=param_grid, scoring='r2', cv=5)\n",
        "\n",
        "# Realizar el Grid Search con los datos de entrenamiento\n",
        "grid_search.fit(X_train, y_train)\n",
        "\n",
        "# Obtener el mejor valor del parámetro max_iter\n",
        "grid_search.best_params_\n"
      ],
      "metadata": {
        "colab": {
          "base_uri": "https://localhost:8080/"
        },
        "id": "L2EU9NfJTQis",
        "outputId": "e0435091-e804-4e18-842c-7a48115c3f7f"
      },
      "execution_count": 40,
      "outputs": [
        {
          "output_type": "stream",
          "name": "stderr",
          "text": [
            "/usr/local/lib/python3.10/dist-packages/sklearn/linear_model/_stochastic_gradient.py:1548: ConvergenceWarning: Maximum number of iteration reached before convergence. Consider increasing max_iter to improve the fit.\n",
            "  warnings.warn(\n",
            "/usr/local/lib/python3.10/dist-packages/sklearn/linear_model/_stochastic_gradient.py:1548: ConvergenceWarning: Maximum number of iteration reached before convergence. Consider increasing max_iter to improve the fit.\n",
            "  warnings.warn(\n",
            "/usr/local/lib/python3.10/dist-packages/sklearn/linear_model/_stochastic_gradient.py:1548: ConvergenceWarning: Maximum number of iteration reached before convergence. Consider increasing max_iter to improve the fit.\n",
            "  warnings.warn(\n",
            "/usr/local/lib/python3.10/dist-packages/sklearn/linear_model/_stochastic_gradient.py:1548: ConvergenceWarning: Maximum number of iteration reached before convergence. Consider increasing max_iter to improve the fit.\n",
            "  warnings.warn(\n",
            "/usr/local/lib/python3.10/dist-packages/sklearn/linear_model/_stochastic_gradient.py:1548: ConvergenceWarning: Maximum number of iteration reached before convergence. Consider increasing max_iter to improve the fit.\n",
            "  warnings.warn(\n"
          ]
        },
        {
          "output_type": "execute_result",
          "data": {
            "text/plain": [
              "{'max_iter': 160}"
            ]
          },
          "metadata": {},
          "execution_count": 40
        }
      ]
    },
    {
      "cell_type": "code",
      "source": [
        "# Entrenar el modelo con el mejor valor de max_iter utilizando todos los datos de entrenamiento\n",
        "final_model = SGDRegressor(max_iter=1110)\n",
        "final_model.fit(X_train, y_train)\n",
        "\n",
        "# Realizar predicciones en el conjunto de prueba\n",
        "y_pred = final_model.predict(X_test)\n",
        "\n",
        "# Calcular el error cuadrático medio en el conjunto de prueba\n",
        "r2score = r2_score(y_test, y_pred)\n",
        "mae = mean_absolute_error(y_test, y_pred)\n",
        "print(f\"Error absoluto medio en el conjunto de prueba: {mae}\")\n",
        "print(f\"R2 score: {r2score}\")\n",
        "\n",
        "# Validación cruzada\n",
        "en_score = cross_val_score(final_model, X_train, y_train, cv=None, scoring='r2')\n",
        "en_score.mean()"
      ],
      "metadata": {
        "colab": {
          "base_uri": "https://localhost:8080/"
        },
        "id": "_pYM56LETrB4",
        "outputId": "f47bc8eb-16c6-4209-f0ba-18fb9778828d"
      },
      "execution_count": 41,
      "outputs": [
        {
          "output_type": "stream",
          "name": "stdout",
          "text": [
            "Error absoluto medio en el conjunto de prueba: 1.1883236893562238e+30\n",
            "R2 score: -1.9561110239190795e+59\n"
          ]
        },
        {
          "output_type": "execute_result",
          "data": {
            "text/plain": [
              "-2.647959527843319e+60"
            ]
          },
          "metadata": {},
          "execution_count": 41
        }
      ]
    },
    {
      "cell_type": "markdown",
      "source": [
        "Vemos que tanto el r2 como el mae son muy malos, los peores de momento."
      ],
      "metadata": {
        "id": "DByUaR5jzFJz"
      }
    },
    {
      "cell_type": "markdown",
      "source": [
        "Probamos con muchas menos iteraciones, las suficientes para que converja."
      ],
      "metadata": {
        "id": "fb8RwS6G7Uam"
      }
    },
    {
      "cell_type": "code",
      "source": [
        "reg = SGDRegressor(max_iter=100, random_state=43)\n",
        "reg.fit(X_train,y_train)"
      ],
      "metadata": {
        "id": "8eMdaZIc07w_",
        "colab": {
          "base_uri": "https://localhost:8080/",
          "height": 74
        },
        "outputId": "e2b6e627-7b29-460b-89d0-132042de856c"
      },
      "execution_count": 42,
      "outputs": [
        {
          "output_type": "execute_result",
          "data": {
            "text/plain": [
              "SGDRegressor(max_iter=100, random_state=43)"
            ],
            "text/html": [
              "<style>#sk-container-id-1 {color: black;background-color: white;}#sk-container-id-1 pre{padding: 0;}#sk-container-id-1 div.sk-toggleable {background-color: white;}#sk-container-id-1 label.sk-toggleable__label {cursor: pointer;display: block;width: 100%;margin-bottom: 0;padding: 0.3em;box-sizing: border-box;text-align: center;}#sk-container-id-1 label.sk-toggleable__label-arrow:before {content: \"▸\";float: left;margin-right: 0.25em;color: #696969;}#sk-container-id-1 label.sk-toggleable__label-arrow:hover:before {color: black;}#sk-container-id-1 div.sk-estimator:hover label.sk-toggleable__label-arrow:before {color: black;}#sk-container-id-1 div.sk-toggleable__content {max-height: 0;max-width: 0;overflow: hidden;text-align: left;background-color: #f0f8ff;}#sk-container-id-1 div.sk-toggleable__content pre {margin: 0.2em;color: black;border-radius: 0.25em;background-color: #f0f8ff;}#sk-container-id-1 input.sk-toggleable__control:checked~div.sk-toggleable__content {max-height: 200px;max-width: 100%;overflow: auto;}#sk-container-id-1 input.sk-toggleable__control:checked~label.sk-toggleable__label-arrow:before {content: \"▾\";}#sk-container-id-1 div.sk-estimator input.sk-toggleable__control:checked~label.sk-toggleable__label {background-color: #d4ebff;}#sk-container-id-1 div.sk-label input.sk-toggleable__control:checked~label.sk-toggleable__label {background-color: #d4ebff;}#sk-container-id-1 input.sk-hidden--visually {border: 0;clip: rect(1px 1px 1px 1px);clip: rect(1px, 1px, 1px, 1px);height: 1px;margin: -1px;overflow: hidden;padding: 0;position: absolute;width: 1px;}#sk-container-id-1 div.sk-estimator {font-family: monospace;background-color: #f0f8ff;border: 1px dotted black;border-radius: 0.25em;box-sizing: border-box;margin-bottom: 0.5em;}#sk-container-id-1 div.sk-estimator:hover {background-color: #d4ebff;}#sk-container-id-1 div.sk-parallel-item::after {content: \"\";width: 100%;border-bottom: 1px solid gray;flex-grow: 1;}#sk-container-id-1 div.sk-label:hover label.sk-toggleable__label {background-color: #d4ebff;}#sk-container-id-1 div.sk-serial::before {content: \"\";position: absolute;border-left: 1px solid gray;box-sizing: border-box;top: 0;bottom: 0;left: 50%;z-index: 0;}#sk-container-id-1 div.sk-serial {display: flex;flex-direction: column;align-items: center;background-color: white;padding-right: 0.2em;padding-left: 0.2em;position: relative;}#sk-container-id-1 div.sk-item {position: relative;z-index: 1;}#sk-container-id-1 div.sk-parallel {display: flex;align-items: stretch;justify-content: center;background-color: white;position: relative;}#sk-container-id-1 div.sk-item::before, #sk-container-id-1 div.sk-parallel-item::before {content: \"\";position: absolute;border-left: 1px solid gray;box-sizing: border-box;top: 0;bottom: 0;left: 50%;z-index: -1;}#sk-container-id-1 div.sk-parallel-item {display: flex;flex-direction: column;z-index: 1;position: relative;background-color: white;}#sk-container-id-1 div.sk-parallel-item:first-child::after {align-self: flex-end;width: 50%;}#sk-container-id-1 div.sk-parallel-item:last-child::after {align-self: flex-start;width: 50%;}#sk-container-id-1 div.sk-parallel-item:only-child::after {width: 0;}#sk-container-id-1 div.sk-dashed-wrapped {border: 1px dashed gray;margin: 0 0.4em 0.5em 0.4em;box-sizing: border-box;padding-bottom: 0.4em;background-color: white;}#sk-container-id-1 div.sk-label label {font-family: monospace;font-weight: bold;display: inline-block;line-height: 1.2em;}#sk-container-id-1 div.sk-label-container {text-align: center;}#sk-container-id-1 div.sk-container {/* jupyter's `normalize.less` sets `[hidden] { display: none; }` but bootstrap.min.css set `[hidden] { display: none !important; }` so we also need the `!important` here to be able to override the default hidden behavior on the sphinx rendered scikit-learn.org. See: https://github.com/scikit-learn/scikit-learn/issues/21755 */display: inline-block !important;position: relative;}#sk-container-id-1 div.sk-text-repr-fallback {display: none;}</style><div id=\"sk-container-id-1\" class=\"sk-top-container\"><div class=\"sk-text-repr-fallback\"><pre>SGDRegressor(max_iter=100, random_state=43)</pre><b>In a Jupyter environment, please rerun this cell to show the HTML representation or trust the notebook. <br />On GitHub, the HTML representation is unable to render, please try loading this page with nbviewer.org.</b></div><div class=\"sk-container\" hidden><div class=\"sk-item\"><div class=\"sk-estimator sk-toggleable\"><input class=\"sk-toggleable__control sk-hidden--visually\" id=\"sk-estimator-id-1\" type=\"checkbox\" checked><label for=\"sk-estimator-id-1\" class=\"sk-toggleable__label sk-toggleable__label-arrow\">SGDRegressor</label><div class=\"sk-toggleable__content\"><pre>SGDRegressor(max_iter=100, random_state=43)</pre></div></div></div></div></div>"
            ]
          },
          "metadata": {},
          "execution_count": 42
        }
      ]
    },
    {
      "cell_type": "code",
      "source": [
        "# Realizar predicciones en el conjunto de prueba\n",
        "y_pred = reg.predict(X_test)\n",
        "\n",
        "r2score = r2_score(y_test, y_pred)\n",
        "mae = mean_absolute_error(y_test, y_pred)\n",
        "print(f\"Error absoluto medio en el conjunto de prueba: {mae}\")\n",
        "print(f\"R2 score: {r2score}\")\n",
        "\n",
        "# Validación cruzada\n",
        "\n",
        "en_score = cross_val_score(reg, X_train, y_train, cv=None, scoring='r2')\n",
        "en_score.mean()"
      ],
      "metadata": {
        "id": "xWvhCMWX0725",
        "colab": {
          "base_uri": "https://localhost:8080/"
        },
        "outputId": "58486464-78fe-47ec-e031-4f0e6cebab0d"
      },
      "execution_count": 43,
      "outputs": [
        {
          "output_type": "stream",
          "name": "stdout",
          "text": [
            "Error absoluto medio en el conjunto de prueba: 3.670660038972879e+29\n",
            "R2 score: -1.8606545360920438e+58\n"
          ]
        },
        {
          "output_type": "execute_result",
          "data": {
            "text/plain": [
              "-7.216129469785594e+61"
            ]
          },
          "metadata": {},
          "execution_count": 43
        }
      ]
    },
    {
      "cell_type": "markdown",
      "source": [
        "Nos sigue saliendo un r2 y mae muy malos. Hay que tener en cuenta que el SGD Regressor esta centrado a solucionar el problema de la escalabilidad de la regreion linear, y en nuestro caso no tendria mucho sentido usarlo ya que no disponemos de muchos datos."
      ],
      "metadata": {
        "id": "SMra9Ibz7Z2p"
      }
    },
    {
      "cell_type": "markdown",
      "metadata": {
        "id": "lFB2HFhRuVlp"
      },
      "source": [
        "El resto de modelos dan resultados parecidos. El mejor resultado se obtiene con progresión polinómica por lo que usaremos este modelo para la prediccion de la popularidad de las canciones del dataset test. Aún así, los resultados no son elevados y estando tan alejados de 1 que no parece haber gran relación entre la popularidad y las demás características."
      ]
    },
    {
      "cell_type": "markdown",
      "metadata": {
        "id": "nbu1O6TeuVlp"
      },
      "source": [
        "Predicción final, con el mejor modelo:"
      ]
    },
    {
      "cell_type": "code",
      "source": [
        "test"
      ],
      "metadata": {
        "colab": {
          "base_uri": "https://localhost:8080/",
          "height": 443
        },
        "id": "OTVePi8Miq9L",
        "outputId": "143e3270-f2be-4d66-eff6-2a6ab5271a0e"
      },
      "execution_count": 44,
      "outputs": [
        {
          "output_type": "execute_result",
          "data": {
            "text/plain": [
              "      acousticness  danceability  song_duration_ms  energy  instrumentalness  \\\n",
              "0          0.82900         0.625            203667   0.324          0.960000   \n",
              "1          0.99500         0.174            246773   0.249          0.711000   \n",
              "2          0.00388         0.614            200008   0.863          0.001560   \n",
              "3          0.91100         0.437            257173   0.232          0.000000   \n",
              "4          0.65700         0.701            239027   0.750          0.000003   \n",
              "...            ...           ...               ...     ...               ...   \n",
              "5995       0.38800         0.585            193973   0.685          0.000000   \n",
              "5996       0.05100         0.608            202887   0.736          0.000000   \n",
              "5997       0.48400         0.666            102347   0.280          0.000000   \n",
              "5998       0.09320         0.772            282000   0.761          0.000002   \n",
              "5999       0.98400         0.194            268253   0.152          0.274000   \n",
              "\n",
              "      key  liveness  loudness  audio_mode  speechiness    tempo  \\\n",
              "0       3    0.1150   -10.729           0       0.0287  123.055   \n",
              "1       6    0.0621   -11.343           0       0.0363   71.169   \n",
              "2       2    0.2300    -6.096           1       0.0763  149.913   \n",
              "3       3    0.9740   -23.147           0       0.2980   89.836   \n",
              "4       8    0.0845    -3.191           1       0.2740   82.531   \n",
              "...   ...       ...       ...         ...          ...      ...   \n",
              "5995    4    0.1100    -6.490           1       0.0502  145.983   \n",
              "5996    9    0.2150    -6.700           0       0.1650   97.038   \n",
              "5997   10    0.1530   -14.667           0       0.8520   97.969   \n",
              "5998    3    0.0450    -7.170           0       0.0274  119.991   \n",
              "5999    1    0.1470   -17.151           0       0.0550   75.229   \n",
              "\n",
              "      time_signature  audio_valence  \n",
              "0                  3         0.0694  \n",
              "1                  3         0.1560  \n",
              "2                  3         0.3120  \n",
              "3                  3         0.3500  \n",
              "4                  3         0.5150  \n",
              "...              ...            ...  \n",
              "5995               3         0.4600  \n",
              "5996               3         0.4890  \n",
              "5997               2         0.4880  \n",
              "5998               3         0.7730  \n",
              "5999               3         0.0347  \n",
              "\n",
              "[5953 rows x 13 columns]"
            ],
            "text/html": [
              "\n",
              "  <div id=\"df-30eb48fd-822c-44b0-b936-3ddbeaa0eb31\" class=\"colab-df-container\">\n",
              "    <div>\n",
              "<style scoped>\n",
              "    .dataframe tbody tr th:only-of-type {\n",
              "        vertical-align: middle;\n",
              "    }\n",
              "\n",
              "    .dataframe tbody tr th {\n",
              "        vertical-align: top;\n",
              "    }\n",
              "\n",
              "    .dataframe thead th {\n",
              "        text-align: right;\n",
              "    }\n",
              "</style>\n",
              "<table border=\"1\" class=\"dataframe\">\n",
              "  <thead>\n",
              "    <tr style=\"text-align: right;\">\n",
              "      <th></th>\n",
              "      <th>acousticness</th>\n",
              "      <th>danceability</th>\n",
              "      <th>song_duration_ms</th>\n",
              "      <th>energy</th>\n",
              "      <th>instrumentalness</th>\n",
              "      <th>key</th>\n",
              "      <th>liveness</th>\n",
              "      <th>loudness</th>\n",
              "      <th>audio_mode</th>\n",
              "      <th>speechiness</th>\n",
              "      <th>tempo</th>\n",
              "      <th>time_signature</th>\n",
              "      <th>audio_valence</th>\n",
              "    </tr>\n",
              "  </thead>\n",
              "  <tbody>\n",
              "    <tr>\n",
              "      <th>0</th>\n",
              "      <td>0.82900</td>\n",
              "      <td>0.625</td>\n",
              "      <td>203667</td>\n",
              "      <td>0.324</td>\n",
              "      <td>0.960000</td>\n",
              "      <td>3</td>\n",
              "      <td>0.1150</td>\n",
              "      <td>-10.729</td>\n",
              "      <td>0</td>\n",
              "      <td>0.0287</td>\n",
              "      <td>123.055</td>\n",
              "      <td>3</td>\n",
              "      <td>0.0694</td>\n",
              "    </tr>\n",
              "    <tr>\n",
              "      <th>1</th>\n",
              "      <td>0.99500</td>\n",
              "      <td>0.174</td>\n",
              "      <td>246773</td>\n",
              "      <td>0.249</td>\n",
              "      <td>0.711000</td>\n",
              "      <td>6</td>\n",
              "      <td>0.0621</td>\n",
              "      <td>-11.343</td>\n",
              "      <td>0</td>\n",
              "      <td>0.0363</td>\n",
              "      <td>71.169</td>\n",
              "      <td>3</td>\n",
              "      <td>0.1560</td>\n",
              "    </tr>\n",
              "    <tr>\n",
              "      <th>2</th>\n",
              "      <td>0.00388</td>\n",
              "      <td>0.614</td>\n",
              "      <td>200008</td>\n",
              "      <td>0.863</td>\n",
              "      <td>0.001560</td>\n",
              "      <td>2</td>\n",
              "      <td>0.2300</td>\n",
              "      <td>-6.096</td>\n",
              "      <td>1</td>\n",
              "      <td>0.0763</td>\n",
              "      <td>149.913</td>\n",
              "      <td>3</td>\n",
              "      <td>0.3120</td>\n",
              "    </tr>\n",
              "    <tr>\n",
              "      <th>3</th>\n",
              "      <td>0.91100</td>\n",
              "      <td>0.437</td>\n",
              "      <td>257173</td>\n",
              "      <td>0.232</td>\n",
              "      <td>0.000000</td>\n",
              "      <td>3</td>\n",
              "      <td>0.9740</td>\n",
              "      <td>-23.147</td>\n",
              "      <td>0</td>\n",
              "      <td>0.2980</td>\n",
              "      <td>89.836</td>\n",
              "      <td>3</td>\n",
              "      <td>0.3500</td>\n",
              "    </tr>\n",
              "    <tr>\n",
              "      <th>4</th>\n",
              "      <td>0.65700</td>\n",
              "      <td>0.701</td>\n",
              "      <td>239027</td>\n",
              "      <td>0.750</td>\n",
              "      <td>0.000003</td>\n",
              "      <td>8</td>\n",
              "      <td>0.0845</td>\n",
              "      <td>-3.191</td>\n",
              "      <td>1</td>\n",
              "      <td>0.2740</td>\n",
              "      <td>82.531</td>\n",
              "      <td>3</td>\n",
              "      <td>0.5150</td>\n",
              "    </tr>\n",
              "    <tr>\n",
              "      <th>...</th>\n",
              "      <td>...</td>\n",
              "      <td>...</td>\n",
              "      <td>...</td>\n",
              "      <td>...</td>\n",
              "      <td>...</td>\n",
              "      <td>...</td>\n",
              "      <td>...</td>\n",
              "      <td>...</td>\n",
              "      <td>...</td>\n",
              "      <td>...</td>\n",
              "      <td>...</td>\n",
              "      <td>...</td>\n",
              "      <td>...</td>\n",
              "    </tr>\n",
              "    <tr>\n",
              "      <th>5995</th>\n",
              "      <td>0.38800</td>\n",
              "      <td>0.585</td>\n",
              "      <td>193973</td>\n",
              "      <td>0.685</td>\n",
              "      <td>0.000000</td>\n",
              "      <td>4</td>\n",
              "      <td>0.1100</td>\n",
              "      <td>-6.490</td>\n",
              "      <td>1</td>\n",
              "      <td>0.0502</td>\n",
              "      <td>145.983</td>\n",
              "      <td>3</td>\n",
              "      <td>0.4600</td>\n",
              "    </tr>\n",
              "    <tr>\n",
              "      <th>5996</th>\n",
              "      <td>0.05100</td>\n",
              "      <td>0.608</td>\n",
              "      <td>202887</td>\n",
              "      <td>0.736</td>\n",
              "      <td>0.000000</td>\n",
              "      <td>9</td>\n",
              "      <td>0.2150</td>\n",
              "      <td>-6.700</td>\n",
              "      <td>0</td>\n",
              "      <td>0.1650</td>\n",
              "      <td>97.038</td>\n",
              "      <td>3</td>\n",
              "      <td>0.4890</td>\n",
              "    </tr>\n",
              "    <tr>\n",
              "      <th>5997</th>\n",
              "      <td>0.48400</td>\n",
              "      <td>0.666</td>\n",
              "      <td>102347</td>\n",
              "      <td>0.280</td>\n",
              "      <td>0.000000</td>\n",
              "      <td>10</td>\n",
              "      <td>0.1530</td>\n",
              "      <td>-14.667</td>\n",
              "      <td>0</td>\n",
              "      <td>0.8520</td>\n",
              "      <td>97.969</td>\n",
              "      <td>2</td>\n",
              "      <td>0.4880</td>\n",
              "    </tr>\n",
              "    <tr>\n",
              "      <th>5998</th>\n",
              "      <td>0.09320</td>\n",
              "      <td>0.772</td>\n",
              "      <td>282000</td>\n",
              "      <td>0.761</td>\n",
              "      <td>0.000002</td>\n",
              "      <td>3</td>\n",
              "      <td>0.0450</td>\n",
              "      <td>-7.170</td>\n",
              "      <td>0</td>\n",
              "      <td>0.0274</td>\n",
              "      <td>119.991</td>\n",
              "      <td>3</td>\n",
              "      <td>0.7730</td>\n",
              "    </tr>\n",
              "    <tr>\n",
              "      <th>5999</th>\n",
              "      <td>0.98400</td>\n",
              "      <td>0.194</td>\n",
              "      <td>268253</td>\n",
              "      <td>0.152</td>\n",
              "      <td>0.274000</td>\n",
              "      <td>1</td>\n",
              "      <td>0.1470</td>\n",
              "      <td>-17.151</td>\n",
              "      <td>0</td>\n",
              "      <td>0.0550</td>\n",
              "      <td>75.229</td>\n",
              "      <td>3</td>\n",
              "      <td>0.0347</td>\n",
              "    </tr>\n",
              "  </tbody>\n",
              "</table>\n",
              "<p>5953 rows × 13 columns</p>\n",
              "</div>\n",
              "    <div class=\"colab-df-buttons\">\n",
              "\n",
              "  <div class=\"colab-df-container\">\n",
              "    <button class=\"colab-df-convert\" onclick=\"convertToInteractive('df-30eb48fd-822c-44b0-b936-3ddbeaa0eb31')\"\n",
              "            title=\"Convert this dataframe to an interactive table.\"\n",
              "            style=\"display:none;\">\n",
              "\n",
              "  <svg xmlns=\"http://www.w3.org/2000/svg\" height=\"24px\" viewBox=\"0 -960 960 960\">\n",
              "    <path d=\"M120-120v-720h720v720H120Zm60-500h600v-160H180v160Zm220 220h160v-160H400v160Zm0 220h160v-160H400v160ZM180-400h160v-160H180v160Zm440 0h160v-160H620v160ZM180-180h160v-160H180v160Zm440 0h160v-160H620v160Z\"/>\n",
              "  </svg>\n",
              "    </button>\n",
              "\n",
              "  <style>\n",
              "    .colab-df-container {\n",
              "      display:flex;\n",
              "      gap: 12px;\n",
              "    }\n",
              "\n",
              "    .colab-df-convert {\n",
              "      background-color: #E8F0FE;\n",
              "      border: none;\n",
              "      border-radius: 50%;\n",
              "      cursor: pointer;\n",
              "      display: none;\n",
              "      fill: #1967D2;\n",
              "      height: 32px;\n",
              "      padding: 0 0 0 0;\n",
              "      width: 32px;\n",
              "    }\n",
              "\n",
              "    .colab-df-convert:hover {\n",
              "      background-color: #E2EBFA;\n",
              "      box-shadow: 0px 1px 2px rgba(60, 64, 67, 0.3), 0px 1px 3px 1px rgba(60, 64, 67, 0.15);\n",
              "      fill: #174EA6;\n",
              "    }\n",
              "\n",
              "    .colab-df-buttons div {\n",
              "      margin-bottom: 4px;\n",
              "    }\n",
              "\n",
              "    [theme=dark] .colab-df-convert {\n",
              "      background-color: #3B4455;\n",
              "      fill: #D2E3FC;\n",
              "    }\n",
              "\n",
              "    [theme=dark] .colab-df-convert:hover {\n",
              "      background-color: #434B5C;\n",
              "      box-shadow: 0px 1px 3px 1px rgba(0, 0, 0, 0.15);\n",
              "      filter: drop-shadow(0px 1px 2px rgba(0, 0, 0, 0.3));\n",
              "      fill: #FFFFFF;\n",
              "    }\n",
              "  </style>\n",
              "\n",
              "    <script>\n",
              "      const buttonEl =\n",
              "        document.querySelector('#df-30eb48fd-822c-44b0-b936-3ddbeaa0eb31 button.colab-df-convert');\n",
              "      buttonEl.style.display =\n",
              "        google.colab.kernel.accessAllowed ? 'block' : 'none';\n",
              "\n",
              "      async function convertToInteractive(key) {\n",
              "        const element = document.querySelector('#df-30eb48fd-822c-44b0-b936-3ddbeaa0eb31');\n",
              "        const dataTable =\n",
              "          await google.colab.kernel.invokeFunction('convertToInteractive',\n",
              "                                                    [key], {});\n",
              "        if (!dataTable) return;\n",
              "\n",
              "        const docLinkHtml = 'Like what you see? Visit the ' +\n",
              "          '<a target=\"_blank\" href=https://colab.research.google.com/notebooks/data_table.ipynb>data table notebook</a>'\n",
              "          + ' to learn more about interactive tables.';\n",
              "        element.innerHTML = '';\n",
              "        dataTable['output_type'] = 'display_data';\n",
              "        await google.colab.output.renderOutput(dataTable, element);\n",
              "        const docLink = document.createElement('div');\n",
              "        docLink.innerHTML = docLinkHtml;\n",
              "        element.appendChild(docLink);\n",
              "      }\n",
              "    </script>\n",
              "  </div>\n",
              "\n",
              "\n",
              "<div id=\"df-40766c46-0bdc-459b-ae91-2e27ca64a3e7\">\n",
              "  <button class=\"colab-df-quickchart\" onclick=\"quickchart('df-40766c46-0bdc-459b-ae91-2e27ca64a3e7')\"\n",
              "            title=\"Suggest charts\"\n",
              "            style=\"display:none;\">\n",
              "\n",
              "<svg xmlns=\"http://www.w3.org/2000/svg\" height=\"24px\"viewBox=\"0 0 24 24\"\n",
              "     width=\"24px\">\n",
              "    <g>\n",
              "        <path d=\"M19 3H5c-1.1 0-2 .9-2 2v14c0 1.1.9 2 2 2h14c1.1 0 2-.9 2-2V5c0-1.1-.9-2-2-2zM9 17H7v-7h2v7zm4 0h-2V7h2v10zm4 0h-2v-4h2v4z\"/>\n",
              "    </g>\n",
              "</svg>\n",
              "  </button>\n",
              "\n",
              "<style>\n",
              "  .colab-df-quickchart {\n",
              "      --bg-color: #E8F0FE;\n",
              "      --fill-color: #1967D2;\n",
              "      --hover-bg-color: #E2EBFA;\n",
              "      --hover-fill-color: #174EA6;\n",
              "      --disabled-fill-color: #AAA;\n",
              "      --disabled-bg-color: #DDD;\n",
              "  }\n",
              "\n",
              "  [theme=dark] .colab-df-quickchart {\n",
              "      --bg-color: #3B4455;\n",
              "      --fill-color: #D2E3FC;\n",
              "      --hover-bg-color: #434B5C;\n",
              "      --hover-fill-color: #FFFFFF;\n",
              "      --disabled-bg-color: #3B4455;\n",
              "      --disabled-fill-color: #666;\n",
              "  }\n",
              "\n",
              "  .colab-df-quickchart {\n",
              "    background-color: var(--bg-color);\n",
              "    border: none;\n",
              "    border-radius: 50%;\n",
              "    cursor: pointer;\n",
              "    display: none;\n",
              "    fill: var(--fill-color);\n",
              "    height: 32px;\n",
              "    padding: 0;\n",
              "    width: 32px;\n",
              "  }\n",
              "\n",
              "  .colab-df-quickchart:hover {\n",
              "    background-color: var(--hover-bg-color);\n",
              "    box-shadow: 0 1px 2px rgba(60, 64, 67, 0.3), 0 1px 3px 1px rgba(60, 64, 67, 0.15);\n",
              "    fill: var(--button-hover-fill-color);\n",
              "  }\n",
              "\n",
              "  .colab-df-quickchart-complete:disabled,\n",
              "  .colab-df-quickchart-complete:disabled:hover {\n",
              "    background-color: var(--disabled-bg-color);\n",
              "    fill: var(--disabled-fill-color);\n",
              "    box-shadow: none;\n",
              "  }\n",
              "\n",
              "  .colab-df-spinner {\n",
              "    border: 2px solid var(--fill-color);\n",
              "    border-color: transparent;\n",
              "    border-bottom-color: var(--fill-color);\n",
              "    animation:\n",
              "      spin 1s steps(1) infinite;\n",
              "  }\n",
              "\n",
              "  @keyframes spin {\n",
              "    0% {\n",
              "      border-color: transparent;\n",
              "      border-bottom-color: var(--fill-color);\n",
              "      border-left-color: var(--fill-color);\n",
              "    }\n",
              "    20% {\n",
              "      border-color: transparent;\n",
              "      border-left-color: var(--fill-color);\n",
              "      border-top-color: var(--fill-color);\n",
              "    }\n",
              "    30% {\n",
              "      border-color: transparent;\n",
              "      border-left-color: var(--fill-color);\n",
              "      border-top-color: var(--fill-color);\n",
              "      border-right-color: var(--fill-color);\n",
              "    }\n",
              "    40% {\n",
              "      border-color: transparent;\n",
              "      border-right-color: var(--fill-color);\n",
              "      border-top-color: var(--fill-color);\n",
              "    }\n",
              "    60% {\n",
              "      border-color: transparent;\n",
              "      border-right-color: var(--fill-color);\n",
              "    }\n",
              "    80% {\n",
              "      border-color: transparent;\n",
              "      border-right-color: var(--fill-color);\n",
              "      border-bottom-color: var(--fill-color);\n",
              "    }\n",
              "    90% {\n",
              "      border-color: transparent;\n",
              "      border-bottom-color: var(--fill-color);\n",
              "    }\n",
              "  }\n",
              "</style>\n",
              "\n",
              "  <script>\n",
              "    async function quickchart(key) {\n",
              "      const quickchartButtonEl =\n",
              "        document.querySelector('#' + key + ' button');\n",
              "      quickchartButtonEl.disabled = true;  // To prevent multiple clicks.\n",
              "      quickchartButtonEl.classList.add('colab-df-spinner');\n",
              "      try {\n",
              "        const charts = await google.colab.kernel.invokeFunction(\n",
              "            'suggestCharts', [key], {});\n",
              "      } catch (error) {\n",
              "        console.error('Error during call to suggestCharts:', error);\n",
              "      }\n",
              "      quickchartButtonEl.classList.remove('colab-df-spinner');\n",
              "      quickchartButtonEl.classList.add('colab-df-quickchart-complete');\n",
              "    }\n",
              "    (() => {\n",
              "      let quickchartButtonEl =\n",
              "        document.querySelector('#df-40766c46-0bdc-459b-ae91-2e27ca64a3e7 button');\n",
              "      quickchartButtonEl.style.display =\n",
              "        google.colab.kernel.accessAllowed ? 'block' : 'none';\n",
              "    })();\n",
              "  </script>\n",
              "</div>\n",
              "    </div>\n",
              "  </div>\n"
            ]
          },
          "metadata": {},
          "execution_count": 44
        }
      ]
    },
    {
      "cell_type": "code",
      "execution_count": 45,
      "metadata": {
        "id": "GDxu7uEIuVlq"
      },
      "outputs": [],
      "source": [
        "#Hacemos la predicción con test\n",
        "poly_X = PolynomialFeatures(degree=2).fit_transform(test)\n",
        "y_pred = linear_p.predict(poly_X)\n"
      ]
    },
    {
      "cell_type": "code",
      "execution_count": 46,
      "metadata": {
        "id": "WJ9nB1QTuVlq",
        "outputId": "f84a452b-5b0d-4fd6-faa0-fa07c3e48a68",
        "colab": {
          "base_uri": "https://localhost:8080/",
          "height": 423
        }
      },
      "outputs": [
        {
          "output_type": "execute_result",
          "data": {
            "text/plain": [
              "      song_popularity\n",
              "0           38.450648\n",
              "1           28.421350\n",
              "2           47.137326\n",
              "3           14.955726\n",
              "4           51.049219\n",
              "...               ...\n",
              "5995        50.965363\n",
              "5996        49.686077\n",
              "5997        29.155985\n",
              "5998        45.331310\n",
              "5999        24.727154\n",
              "\n",
              "[5953 rows x 1 columns]"
            ],
            "text/html": [
              "\n",
              "  <div id=\"df-42a044a0-7645-45fb-9ebd-c036b28ab82d\" class=\"colab-df-container\">\n",
              "    <div>\n",
              "<style scoped>\n",
              "    .dataframe tbody tr th:only-of-type {\n",
              "        vertical-align: middle;\n",
              "    }\n",
              "\n",
              "    .dataframe tbody tr th {\n",
              "        vertical-align: top;\n",
              "    }\n",
              "\n",
              "    .dataframe thead th {\n",
              "        text-align: right;\n",
              "    }\n",
              "</style>\n",
              "<table border=\"1\" class=\"dataframe\">\n",
              "  <thead>\n",
              "    <tr style=\"text-align: right;\">\n",
              "      <th></th>\n",
              "      <th>song_popularity</th>\n",
              "    </tr>\n",
              "  </thead>\n",
              "  <tbody>\n",
              "    <tr>\n",
              "      <th>0</th>\n",
              "      <td>38.450648</td>\n",
              "    </tr>\n",
              "    <tr>\n",
              "      <th>1</th>\n",
              "      <td>28.421350</td>\n",
              "    </tr>\n",
              "    <tr>\n",
              "      <th>2</th>\n",
              "      <td>47.137326</td>\n",
              "    </tr>\n",
              "    <tr>\n",
              "      <th>3</th>\n",
              "      <td>14.955726</td>\n",
              "    </tr>\n",
              "    <tr>\n",
              "      <th>4</th>\n",
              "      <td>51.049219</td>\n",
              "    </tr>\n",
              "    <tr>\n",
              "      <th>...</th>\n",
              "      <td>...</td>\n",
              "    </tr>\n",
              "    <tr>\n",
              "      <th>5995</th>\n",
              "      <td>50.965363</td>\n",
              "    </tr>\n",
              "    <tr>\n",
              "      <th>5996</th>\n",
              "      <td>49.686077</td>\n",
              "    </tr>\n",
              "    <tr>\n",
              "      <th>5997</th>\n",
              "      <td>29.155985</td>\n",
              "    </tr>\n",
              "    <tr>\n",
              "      <th>5998</th>\n",
              "      <td>45.331310</td>\n",
              "    </tr>\n",
              "    <tr>\n",
              "      <th>5999</th>\n",
              "      <td>24.727154</td>\n",
              "    </tr>\n",
              "  </tbody>\n",
              "</table>\n",
              "<p>5953 rows × 1 columns</p>\n",
              "</div>\n",
              "    <div class=\"colab-df-buttons\">\n",
              "\n",
              "  <div class=\"colab-df-container\">\n",
              "    <button class=\"colab-df-convert\" onclick=\"convertToInteractive('df-42a044a0-7645-45fb-9ebd-c036b28ab82d')\"\n",
              "            title=\"Convert this dataframe to an interactive table.\"\n",
              "            style=\"display:none;\">\n",
              "\n",
              "  <svg xmlns=\"http://www.w3.org/2000/svg\" height=\"24px\" viewBox=\"0 -960 960 960\">\n",
              "    <path d=\"M120-120v-720h720v720H120Zm60-500h600v-160H180v160Zm220 220h160v-160H400v160Zm0 220h160v-160H400v160ZM180-400h160v-160H180v160Zm440 0h160v-160H620v160ZM180-180h160v-160H180v160Zm440 0h160v-160H620v160Z\"/>\n",
              "  </svg>\n",
              "    </button>\n",
              "\n",
              "  <style>\n",
              "    .colab-df-container {\n",
              "      display:flex;\n",
              "      gap: 12px;\n",
              "    }\n",
              "\n",
              "    .colab-df-convert {\n",
              "      background-color: #E8F0FE;\n",
              "      border: none;\n",
              "      border-radius: 50%;\n",
              "      cursor: pointer;\n",
              "      display: none;\n",
              "      fill: #1967D2;\n",
              "      height: 32px;\n",
              "      padding: 0 0 0 0;\n",
              "      width: 32px;\n",
              "    }\n",
              "\n",
              "    .colab-df-convert:hover {\n",
              "      background-color: #E2EBFA;\n",
              "      box-shadow: 0px 1px 2px rgba(60, 64, 67, 0.3), 0px 1px 3px 1px rgba(60, 64, 67, 0.15);\n",
              "      fill: #174EA6;\n",
              "    }\n",
              "\n",
              "    .colab-df-buttons div {\n",
              "      margin-bottom: 4px;\n",
              "    }\n",
              "\n",
              "    [theme=dark] .colab-df-convert {\n",
              "      background-color: #3B4455;\n",
              "      fill: #D2E3FC;\n",
              "    }\n",
              "\n",
              "    [theme=dark] .colab-df-convert:hover {\n",
              "      background-color: #434B5C;\n",
              "      box-shadow: 0px 1px 3px 1px rgba(0, 0, 0, 0.15);\n",
              "      filter: drop-shadow(0px 1px 2px rgba(0, 0, 0, 0.3));\n",
              "      fill: #FFFFFF;\n",
              "    }\n",
              "  </style>\n",
              "\n",
              "    <script>\n",
              "      const buttonEl =\n",
              "        document.querySelector('#df-42a044a0-7645-45fb-9ebd-c036b28ab82d button.colab-df-convert');\n",
              "      buttonEl.style.display =\n",
              "        google.colab.kernel.accessAllowed ? 'block' : 'none';\n",
              "\n",
              "      async function convertToInteractive(key) {\n",
              "        const element = document.querySelector('#df-42a044a0-7645-45fb-9ebd-c036b28ab82d');\n",
              "        const dataTable =\n",
              "          await google.colab.kernel.invokeFunction('convertToInteractive',\n",
              "                                                    [key], {});\n",
              "        if (!dataTable) return;\n",
              "\n",
              "        const docLinkHtml = 'Like what you see? Visit the ' +\n",
              "          '<a target=\"_blank\" href=https://colab.research.google.com/notebooks/data_table.ipynb>data table notebook</a>'\n",
              "          + ' to learn more about interactive tables.';\n",
              "        element.innerHTML = '';\n",
              "        dataTable['output_type'] = 'display_data';\n",
              "        await google.colab.output.renderOutput(dataTable, element);\n",
              "        const docLink = document.createElement('div');\n",
              "        docLink.innerHTML = docLinkHtml;\n",
              "        element.appendChild(docLink);\n",
              "      }\n",
              "    </script>\n",
              "  </div>\n",
              "\n",
              "\n",
              "<div id=\"df-3fd5e1e0-a7f9-4a2d-8c6a-ad317bc9ffad\">\n",
              "  <button class=\"colab-df-quickchart\" onclick=\"quickchart('df-3fd5e1e0-a7f9-4a2d-8c6a-ad317bc9ffad')\"\n",
              "            title=\"Suggest charts\"\n",
              "            style=\"display:none;\">\n",
              "\n",
              "<svg xmlns=\"http://www.w3.org/2000/svg\" height=\"24px\"viewBox=\"0 0 24 24\"\n",
              "     width=\"24px\">\n",
              "    <g>\n",
              "        <path d=\"M19 3H5c-1.1 0-2 .9-2 2v14c0 1.1.9 2 2 2h14c1.1 0 2-.9 2-2V5c0-1.1-.9-2-2-2zM9 17H7v-7h2v7zm4 0h-2V7h2v10zm4 0h-2v-4h2v4z\"/>\n",
              "    </g>\n",
              "</svg>\n",
              "  </button>\n",
              "\n",
              "<style>\n",
              "  .colab-df-quickchart {\n",
              "      --bg-color: #E8F0FE;\n",
              "      --fill-color: #1967D2;\n",
              "      --hover-bg-color: #E2EBFA;\n",
              "      --hover-fill-color: #174EA6;\n",
              "      --disabled-fill-color: #AAA;\n",
              "      --disabled-bg-color: #DDD;\n",
              "  }\n",
              "\n",
              "  [theme=dark] .colab-df-quickchart {\n",
              "      --bg-color: #3B4455;\n",
              "      --fill-color: #D2E3FC;\n",
              "      --hover-bg-color: #434B5C;\n",
              "      --hover-fill-color: #FFFFFF;\n",
              "      --disabled-bg-color: #3B4455;\n",
              "      --disabled-fill-color: #666;\n",
              "  }\n",
              "\n",
              "  .colab-df-quickchart {\n",
              "    background-color: var(--bg-color);\n",
              "    border: none;\n",
              "    border-radius: 50%;\n",
              "    cursor: pointer;\n",
              "    display: none;\n",
              "    fill: var(--fill-color);\n",
              "    height: 32px;\n",
              "    padding: 0;\n",
              "    width: 32px;\n",
              "  }\n",
              "\n",
              "  .colab-df-quickchart:hover {\n",
              "    background-color: var(--hover-bg-color);\n",
              "    box-shadow: 0 1px 2px rgba(60, 64, 67, 0.3), 0 1px 3px 1px rgba(60, 64, 67, 0.15);\n",
              "    fill: var(--button-hover-fill-color);\n",
              "  }\n",
              "\n",
              "  .colab-df-quickchart-complete:disabled,\n",
              "  .colab-df-quickchart-complete:disabled:hover {\n",
              "    background-color: var(--disabled-bg-color);\n",
              "    fill: var(--disabled-fill-color);\n",
              "    box-shadow: none;\n",
              "  }\n",
              "\n",
              "  .colab-df-spinner {\n",
              "    border: 2px solid var(--fill-color);\n",
              "    border-color: transparent;\n",
              "    border-bottom-color: var(--fill-color);\n",
              "    animation:\n",
              "      spin 1s steps(1) infinite;\n",
              "  }\n",
              "\n",
              "  @keyframes spin {\n",
              "    0% {\n",
              "      border-color: transparent;\n",
              "      border-bottom-color: var(--fill-color);\n",
              "      border-left-color: var(--fill-color);\n",
              "    }\n",
              "    20% {\n",
              "      border-color: transparent;\n",
              "      border-left-color: var(--fill-color);\n",
              "      border-top-color: var(--fill-color);\n",
              "    }\n",
              "    30% {\n",
              "      border-color: transparent;\n",
              "      border-left-color: var(--fill-color);\n",
              "      border-top-color: var(--fill-color);\n",
              "      border-right-color: var(--fill-color);\n",
              "    }\n",
              "    40% {\n",
              "      border-color: transparent;\n",
              "      border-right-color: var(--fill-color);\n",
              "      border-top-color: var(--fill-color);\n",
              "    }\n",
              "    60% {\n",
              "      border-color: transparent;\n",
              "      border-right-color: var(--fill-color);\n",
              "    }\n",
              "    80% {\n",
              "      border-color: transparent;\n",
              "      border-right-color: var(--fill-color);\n",
              "      border-bottom-color: var(--fill-color);\n",
              "    }\n",
              "    90% {\n",
              "      border-color: transparent;\n",
              "      border-bottom-color: var(--fill-color);\n",
              "    }\n",
              "  }\n",
              "</style>\n",
              "\n",
              "  <script>\n",
              "    async function quickchart(key) {\n",
              "      const quickchartButtonEl =\n",
              "        document.querySelector('#' + key + ' button');\n",
              "      quickchartButtonEl.disabled = true;  // To prevent multiple clicks.\n",
              "      quickchartButtonEl.classList.add('colab-df-spinner');\n",
              "      try {\n",
              "        const charts = await google.colab.kernel.invokeFunction(\n",
              "            'suggestCharts', [key], {});\n",
              "      } catch (error) {\n",
              "        console.error('Error during call to suggestCharts:', error);\n",
              "      }\n",
              "      quickchartButtonEl.classList.remove('colab-df-spinner');\n",
              "      quickchartButtonEl.classList.add('colab-df-quickchart-complete');\n",
              "    }\n",
              "    (() => {\n",
              "      let quickchartButtonEl =\n",
              "        document.querySelector('#df-3fd5e1e0-a7f9-4a2d-8c6a-ad317bc9ffad button');\n",
              "      quickchartButtonEl.style.display =\n",
              "        google.colab.kernel.accessAllowed ? 'block' : 'none';\n",
              "    })();\n",
              "  </script>\n",
              "</div>\n",
              "    </div>\n",
              "  </div>\n"
            ]
          },
          "metadata": {},
          "execution_count": 46
        }
      ],
      "source": [
        "# Guardamos los resultados del test en un df\n",
        "\n",
        "resultados = pd.DataFrame(index = test.index)\n",
        "resultados['song_popularity'] = y_pred\n",
        "\n",
        "# Mandamos los resultos a un csv\n",
        "\n",
        "resultados.to_csv('prediccion_test.csv')\n",
        "\n",
        "# Comprobación\n",
        "\n",
        "resultados"
      ]
    },
    {
      "cell_type": "markdown",
      "source": [
        "Como se ha podido observar durante todo el análisis, no hay ningún modelo que haga una buena predicción. Por tanto se entiende que las predicciones que hemos realizado no serán muy acertadas."
      ],
      "metadata": {
        "id": "b_rFSoxR2KhP"
      }
    }
  ],
  "metadata": {
    "kernelspec": {
      "display_name": "Python 3",
      "language": "python",
      "name": "python3"
    },
    "language_info": {
      "codemirror_mode": {
        "name": "ipython",
        "version": 3
      },
      "file_extension": ".py",
      "mimetype": "text/x-python",
      "name": "python",
      "nbconvert_exporter": "python",
      "pygments_lexer": "ipython3",
      "version": "3.9.13"
    },
    "colab": {
      "provenance": []
    }
  },
  "nbformat": 4,
  "nbformat_minor": 0
}